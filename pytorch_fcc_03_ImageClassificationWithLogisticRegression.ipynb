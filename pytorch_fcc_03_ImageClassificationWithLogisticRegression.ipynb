{
  "nbformat": 4,
  "nbformat_minor": 0,
  "metadata": {
    "colab": {
      "name": "pytorch_fcc_03_ImageClassificationWithLogisticRegression.ipynb",
      "provenance": [],
      "collapsed_sections": []
    },
    "kernelspec": {
      "name": "python3",
      "display_name": "Python 3"
    },
    "language_info": {
      "name": "python"
    },
    "widgets": {
      "application/vnd.jupyter.widget-state+json": {
        "b9d67792d79e4767a70dfd0f307d2278": {
          "model_module": "@jupyter-widgets/controls",
          "model_name": "HBoxModel",
          "model_module_version": "1.5.0",
          "state": {
            "_dom_classes": [],
            "_model_module": "@jupyter-widgets/controls",
            "_model_module_version": "1.5.0",
            "_model_name": "HBoxModel",
            "_view_count": null,
            "_view_module": "@jupyter-widgets/controls",
            "_view_module_version": "1.5.0",
            "_view_name": "HBoxView",
            "box_style": "",
            "children": [
              "IPY_MODEL_63a4294d90d246bdab1e4109a46c1dd5",
              "IPY_MODEL_04a512d1386848d493e758370e1d4111",
              "IPY_MODEL_e9b4f433b3064dd8a342d01d3bb74b5f"
            ],
            "layout": "IPY_MODEL_211bf3f9cbdd4d2b81394cbf97ae8612"
          }
        },
        "63a4294d90d246bdab1e4109a46c1dd5": {
          "model_module": "@jupyter-widgets/controls",
          "model_name": "HTMLModel",
          "model_module_version": "1.5.0",
          "state": {
            "_dom_classes": [],
            "_model_module": "@jupyter-widgets/controls",
            "_model_module_version": "1.5.0",
            "_model_name": "HTMLModel",
            "_view_count": null,
            "_view_module": "@jupyter-widgets/controls",
            "_view_module_version": "1.5.0",
            "_view_name": "HTMLView",
            "description": "",
            "description_tooltip": null,
            "layout": "IPY_MODEL_98a4ab5defa84ac4bdd23a76c41ebb28",
            "placeholder": "​",
            "style": "IPY_MODEL_019ff748aa2e498aa6e0be0ee06f7526",
            "value": "100%"
          }
        },
        "04a512d1386848d493e758370e1d4111": {
          "model_module": "@jupyter-widgets/controls",
          "model_name": "FloatProgressModel",
          "model_module_version": "1.5.0",
          "state": {
            "_dom_classes": [],
            "_model_module": "@jupyter-widgets/controls",
            "_model_module_version": "1.5.0",
            "_model_name": "FloatProgressModel",
            "_view_count": null,
            "_view_module": "@jupyter-widgets/controls",
            "_view_module_version": "1.5.0",
            "_view_name": "ProgressView",
            "bar_style": "success",
            "description": "",
            "description_tooltip": null,
            "layout": "IPY_MODEL_8dc67ccfd10043e4920baa48a42df2ef",
            "max": 9912422,
            "min": 0,
            "orientation": "horizontal",
            "style": "IPY_MODEL_390ee7f52e9c4df1b913af167e755b79",
            "value": 9912422
          }
        },
        "e9b4f433b3064dd8a342d01d3bb74b5f": {
          "model_module": "@jupyter-widgets/controls",
          "model_name": "HTMLModel",
          "model_module_version": "1.5.0",
          "state": {
            "_dom_classes": [],
            "_model_module": "@jupyter-widgets/controls",
            "_model_module_version": "1.5.0",
            "_model_name": "HTMLModel",
            "_view_count": null,
            "_view_module": "@jupyter-widgets/controls",
            "_view_module_version": "1.5.0",
            "_view_name": "HTMLView",
            "description": "",
            "description_tooltip": null,
            "layout": "IPY_MODEL_5de767c370894dc5a39be78707b7174d",
            "placeholder": "​",
            "style": "IPY_MODEL_3cddbb10f3fe44cbbec7e7493b9efcef",
            "value": " 9912422/9912422 [00:00&lt;00:00, 21250382.02it/s]"
          }
        },
        "211bf3f9cbdd4d2b81394cbf97ae8612": {
          "model_module": "@jupyter-widgets/base",
          "model_name": "LayoutModel",
          "model_module_version": "1.2.0",
          "state": {
            "_model_module": "@jupyter-widgets/base",
            "_model_module_version": "1.2.0",
            "_model_name": "LayoutModel",
            "_view_count": null,
            "_view_module": "@jupyter-widgets/base",
            "_view_module_version": "1.2.0",
            "_view_name": "LayoutView",
            "align_content": null,
            "align_items": null,
            "align_self": null,
            "border": null,
            "bottom": null,
            "display": null,
            "flex": null,
            "flex_flow": null,
            "grid_area": null,
            "grid_auto_columns": null,
            "grid_auto_flow": null,
            "grid_auto_rows": null,
            "grid_column": null,
            "grid_gap": null,
            "grid_row": null,
            "grid_template_areas": null,
            "grid_template_columns": null,
            "grid_template_rows": null,
            "height": null,
            "justify_content": null,
            "justify_items": null,
            "left": null,
            "margin": null,
            "max_height": null,
            "max_width": null,
            "min_height": null,
            "min_width": null,
            "object_fit": null,
            "object_position": null,
            "order": null,
            "overflow": null,
            "overflow_x": null,
            "overflow_y": null,
            "padding": null,
            "right": null,
            "top": null,
            "visibility": null,
            "width": null
          }
        },
        "98a4ab5defa84ac4bdd23a76c41ebb28": {
          "model_module": "@jupyter-widgets/base",
          "model_name": "LayoutModel",
          "model_module_version": "1.2.0",
          "state": {
            "_model_module": "@jupyter-widgets/base",
            "_model_module_version": "1.2.0",
            "_model_name": "LayoutModel",
            "_view_count": null,
            "_view_module": "@jupyter-widgets/base",
            "_view_module_version": "1.2.0",
            "_view_name": "LayoutView",
            "align_content": null,
            "align_items": null,
            "align_self": null,
            "border": null,
            "bottom": null,
            "display": null,
            "flex": null,
            "flex_flow": null,
            "grid_area": null,
            "grid_auto_columns": null,
            "grid_auto_flow": null,
            "grid_auto_rows": null,
            "grid_column": null,
            "grid_gap": null,
            "grid_row": null,
            "grid_template_areas": null,
            "grid_template_columns": null,
            "grid_template_rows": null,
            "height": null,
            "justify_content": null,
            "justify_items": null,
            "left": null,
            "margin": null,
            "max_height": null,
            "max_width": null,
            "min_height": null,
            "min_width": null,
            "object_fit": null,
            "object_position": null,
            "order": null,
            "overflow": null,
            "overflow_x": null,
            "overflow_y": null,
            "padding": null,
            "right": null,
            "top": null,
            "visibility": null,
            "width": null
          }
        },
        "019ff748aa2e498aa6e0be0ee06f7526": {
          "model_module": "@jupyter-widgets/controls",
          "model_name": "DescriptionStyleModel",
          "model_module_version": "1.5.0",
          "state": {
            "_model_module": "@jupyter-widgets/controls",
            "_model_module_version": "1.5.0",
            "_model_name": "DescriptionStyleModel",
            "_view_count": null,
            "_view_module": "@jupyter-widgets/base",
            "_view_module_version": "1.2.0",
            "_view_name": "StyleView",
            "description_width": ""
          }
        },
        "8dc67ccfd10043e4920baa48a42df2ef": {
          "model_module": "@jupyter-widgets/base",
          "model_name": "LayoutModel",
          "model_module_version": "1.2.0",
          "state": {
            "_model_module": "@jupyter-widgets/base",
            "_model_module_version": "1.2.0",
            "_model_name": "LayoutModel",
            "_view_count": null,
            "_view_module": "@jupyter-widgets/base",
            "_view_module_version": "1.2.0",
            "_view_name": "LayoutView",
            "align_content": null,
            "align_items": null,
            "align_self": null,
            "border": null,
            "bottom": null,
            "display": null,
            "flex": null,
            "flex_flow": null,
            "grid_area": null,
            "grid_auto_columns": null,
            "grid_auto_flow": null,
            "grid_auto_rows": null,
            "grid_column": null,
            "grid_gap": null,
            "grid_row": null,
            "grid_template_areas": null,
            "grid_template_columns": null,
            "grid_template_rows": null,
            "height": null,
            "justify_content": null,
            "justify_items": null,
            "left": null,
            "margin": null,
            "max_height": null,
            "max_width": null,
            "min_height": null,
            "min_width": null,
            "object_fit": null,
            "object_position": null,
            "order": null,
            "overflow": null,
            "overflow_x": null,
            "overflow_y": null,
            "padding": null,
            "right": null,
            "top": null,
            "visibility": null,
            "width": null
          }
        },
        "390ee7f52e9c4df1b913af167e755b79": {
          "model_module": "@jupyter-widgets/controls",
          "model_name": "ProgressStyleModel",
          "model_module_version": "1.5.0",
          "state": {
            "_model_module": "@jupyter-widgets/controls",
            "_model_module_version": "1.5.0",
            "_model_name": "ProgressStyleModel",
            "_view_count": null,
            "_view_module": "@jupyter-widgets/base",
            "_view_module_version": "1.2.0",
            "_view_name": "StyleView",
            "bar_color": null,
            "description_width": ""
          }
        },
        "5de767c370894dc5a39be78707b7174d": {
          "model_module": "@jupyter-widgets/base",
          "model_name": "LayoutModel",
          "model_module_version": "1.2.0",
          "state": {
            "_model_module": "@jupyter-widgets/base",
            "_model_module_version": "1.2.0",
            "_model_name": "LayoutModel",
            "_view_count": null,
            "_view_module": "@jupyter-widgets/base",
            "_view_module_version": "1.2.0",
            "_view_name": "LayoutView",
            "align_content": null,
            "align_items": null,
            "align_self": null,
            "border": null,
            "bottom": null,
            "display": null,
            "flex": null,
            "flex_flow": null,
            "grid_area": null,
            "grid_auto_columns": null,
            "grid_auto_flow": null,
            "grid_auto_rows": null,
            "grid_column": null,
            "grid_gap": null,
            "grid_row": null,
            "grid_template_areas": null,
            "grid_template_columns": null,
            "grid_template_rows": null,
            "height": null,
            "justify_content": null,
            "justify_items": null,
            "left": null,
            "margin": null,
            "max_height": null,
            "max_width": null,
            "min_height": null,
            "min_width": null,
            "object_fit": null,
            "object_position": null,
            "order": null,
            "overflow": null,
            "overflow_x": null,
            "overflow_y": null,
            "padding": null,
            "right": null,
            "top": null,
            "visibility": null,
            "width": null
          }
        },
        "3cddbb10f3fe44cbbec7e7493b9efcef": {
          "model_module": "@jupyter-widgets/controls",
          "model_name": "DescriptionStyleModel",
          "model_module_version": "1.5.0",
          "state": {
            "_model_module": "@jupyter-widgets/controls",
            "_model_module_version": "1.5.0",
            "_model_name": "DescriptionStyleModel",
            "_view_count": null,
            "_view_module": "@jupyter-widgets/base",
            "_view_module_version": "1.2.0",
            "_view_name": "StyleView",
            "description_width": ""
          }
        },
        "00ae8c22ad7f4686ade5e8ff47347c75": {
          "model_module": "@jupyter-widgets/controls",
          "model_name": "HBoxModel",
          "model_module_version": "1.5.0",
          "state": {
            "_dom_classes": [],
            "_model_module": "@jupyter-widgets/controls",
            "_model_module_version": "1.5.0",
            "_model_name": "HBoxModel",
            "_view_count": null,
            "_view_module": "@jupyter-widgets/controls",
            "_view_module_version": "1.5.0",
            "_view_name": "HBoxView",
            "box_style": "",
            "children": [
              "IPY_MODEL_39f935d32c7f44ac83be0eb748f7bb73",
              "IPY_MODEL_c1675b2a0e3f453f9f65dba285b00bc7",
              "IPY_MODEL_7126eac7034f4d80b64ef5146330e073"
            ],
            "layout": "IPY_MODEL_5972fe65b89742519d8220152ddd689e"
          }
        },
        "39f935d32c7f44ac83be0eb748f7bb73": {
          "model_module": "@jupyter-widgets/controls",
          "model_name": "HTMLModel",
          "model_module_version": "1.5.0",
          "state": {
            "_dom_classes": [],
            "_model_module": "@jupyter-widgets/controls",
            "_model_module_version": "1.5.0",
            "_model_name": "HTMLModel",
            "_view_count": null,
            "_view_module": "@jupyter-widgets/controls",
            "_view_module_version": "1.5.0",
            "_view_name": "HTMLView",
            "description": "",
            "description_tooltip": null,
            "layout": "IPY_MODEL_d779b651ad264a2cb2fabfdf561fda7a",
            "placeholder": "​",
            "style": "IPY_MODEL_19fcd368aa0146c5b01135f3cde8d583",
            "value": "100%"
          }
        },
        "c1675b2a0e3f453f9f65dba285b00bc7": {
          "model_module": "@jupyter-widgets/controls",
          "model_name": "FloatProgressModel",
          "model_module_version": "1.5.0",
          "state": {
            "_dom_classes": [],
            "_model_module": "@jupyter-widgets/controls",
            "_model_module_version": "1.5.0",
            "_model_name": "FloatProgressModel",
            "_view_count": null,
            "_view_module": "@jupyter-widgets/controls",
            "_view_module_version": "1.5.0",
            "_view_name": "ProgressView",
            "bar_style": "success",
            "description": "",
            "description_tooltip": null,
            "layout": "IPY_MODEL_4f4af3c2d0724587be036dc0f30426b8",
            "max": 28881,
            "min": 0,
            "orientation": "horizontal",
            "style": "IPY_MODEL_8d91d8b6e6f9434a8e4f6184b222130e",
            "value": 28881
          }
        },
        "7126eac7034f4d80b64ef5146330e073": {
          "model_module": "@jupyter-widgets/controls",
          "model_name": "HTMLModel",
          "model_module_version": "1.5.0",
          "state": {
            "_dom_classes": [],
            "_model_module": "@jupyter-widgets/controls",
            "_model_module_version": "1.5.0",
            "_model_name": "HTMLModel",
            "_view_count": null,
            "_view_module": "@jupyter-widgets/controls",
            "_view_module_version": "1.5.0",
            "_view_name": "HTMLView",
            "description": "",
            "description_tooltip": null,
            "layout": "IPY_MODEL_b652661828b347b1bb070dc12286d3f4",
            "placeholder": "​",
            "style": "IPY_MODEL_72bae6487e5d4f868410c4de2c232845",
            "value": " 28881/28881 [00:00&lt;00:00, 766138.52it/s]"
          }
        },
        "5972fe65b89742519d8220152ddd689e": {
          "model_module": "@jupyter-widgets/base",
          "model_name": "LayoutModel",
          "model_module_version": "1.2.0",
          "state": {
            "_model_module": "@jupyter-widgets/base",
            "_model_module_version": "1.2.0",
            "_model_name": "LayoutModel",
            "_view_count": null,
            "_view_module": "@jupyter-widgets/base",
            "_view_module_version": "1.2.0",
            "_view_name": "LayoutView",
            "align_content": null,
            "align_items": null,
            "align_self": null,
            "border": null,
            "bottom": null,
            "display": null,
            "flex": null,
            "flex_flow": null,
            "grid_area": null,
            "grid_auto_columns": null,
            "grid_auto_flow": null,
            "grid_auto_rows": null,
            "grid_column": null,
            "grid_gap": null,
            "grid_row": null,
            "grid_template_areas": null,
            "grid_template_columns": null,
            "grid_template_rows": null,
            "height": null,
            "justify_content": null,
            "justify_items": null,
            "left": null,
            "margin": null,
            "max_height": null,
            "max_width": null,
            "min_height": null,
            "min_width": null,
            "object_fit": null,
            "object_position": null,
            "order": null,
            "overflow": null,
            "overflow_x": null,
            "overflow_y": null,
            "padding": null,
            "right": null,
            "top": null,
            "visibility": null,
            "width": null
          }
        },
        "d779b651ad264a2cb2fabfdf561fda7a": {
          "model_module": "@jupyter-widgets/base",
          "model_name": "LayoutModel",
          "model_module_version": "1.2.0",
          "state": {
            "_model_module": "@jupyter-widgets/base",
            "_model_module_version": "1.2.0",
            "_model_name": "LayoutModel",
            "_view_count": null,
            "_view_module": "@jupyter-widgets/base",
            "_view_module_version": "1.2.0",
            "_view_name": "LayoutView",
            "align_content": null,
            "align_items": null,
            "align_self": null,
            "border": null,
            "bottom": null,
            "display": null,
            "flex": null,
            "flex_flow": null,
            "grid_area": null,
            "grid_auto_columns": null,
            "grid_auto_flow": null,
            "grid_auto_rows": null,
            "grid_column": null,
            "grid_gap": null,
            "grid_row": null,
            "grid_template_areas": null,
            "grid_template_columns": null,
            "grid_template_rows": null,
            "height": null,
            "justify_content": null,
            "justify_items": null,
            "left": null,
            "margin": null,
            "max_height": null,
            "max_width": null,
            "min_height": null,
            "min_width": null,
            "object_fit": null,
            "object_position": null,
            "order": null,
            "overflow": null,
            "overflow_x": null,
            "overflow_y": null,
            "padding": null,
            "right": null,
            "top": null,
            "visibility": null,
            "width": null
          }
        },
        "19fcd368aa0146c5b01135f3cde8d583": {
          "model_module": "@jupyter-widgets/controls",
          "model_name": "DescriptionStyleModel",
          "model_module_version": "1.5.0",
          "state": {
            "_model_module": "@jupyter-widgets/controls",
            "_model_module_version": "1.5.0",
            "_model_name": "DescriptionStyleModel",
            "_view_count": null,
            "_view_module": "@jupyter-widgets/base",
            "_view_module_version": "1.2.0",
            "_view_name": "StyleView",
            "description_width": ""
          }
        },
        "4f4af3c2d0724587be036dc0f30426b8": {
          "model_module": "@jupyter-widgets/base",
          "model_name": "LayoutModel",
          "model_module_version": "1.2.0",
          "state": {
            "_model_module": "@jupyter-widgets/base",
            "_model_module_version": "1.2.0",
            "_model_name": "LayoutModel",
            "_view_count": null,
            "_view_module": "@jupyter-widgets/base",
            "_view_module_version": "1.2.0",
            "_view_name": "LayoutView",
            "align_content": null,
            "align_items": null,
            "align_self": null,
            "border": null,
            "bottom": null,
            "display": null,
            "flex": null,
            "flex_flow": null,
            "grid_area": null,
            "grid_auto_columns": null,
            "grid_auto_flow": null,
            "grid_auto_rows": null,
            "grid_column": null,
            "grid_gap": null,
            "grid_row": null,
            "grid_template_areas": null,
            "grid_template_columns": null,
            "grid_template_rows": null,
            "height": null,
            "justify_content": null,
            "justify_items": null,
            "left": null,
            "margin": null,
            "max_height": null,
            "max_width": null,
            "min_height": null,
            "min_width": null,
            "object_fit": null,
            "object_position": null,
            "order": null,
            "overflow": null,
            "overflow_x": null,
            "overflow_y": null,
            "padding": null,
            "right": null,
            "top": null,
            "visibility": null,
            "width": null
          }
        },
        "8d91d8b6e6f9434a8e4f6184b222130e": {
          "model_module": "@jupyter-widgets/controls",
          "model_name": "ProgressStyleModel",
          "model_module_version": "1.5.0",
          "state": {
            "_model_module": "@jupyter-widgets/controls",
            "_model_module_version": "1.5.0",
            "_model_name": "ProgressStyleModel",
            "_view_count": null,
            "_view_module": "@jupyter-widgets/base",
            "_view_module_version": "1.2.0",
            "_view_name": "StyleView",
            "bar_color": null,
            "description_width": ""
          }
        },
        "b652661828b347b1bb070dc12286d3f4": {
          "model_module": "@jupyter-widgets/base",
          "model_name": "LayoutModel",
          "model_module_version": "1.2.0",
          "state": {
            "_model_module": "@jupyter-widgets/base",
            "_model_module_version": "1.2.0",
            "_model_name": "LayoutModel",
            "_view_count": null,
            "_view_module": "@jupyter-widgets/base",
            "_view_module_version": "1.2.0",
            "_view_name": "LayoutView",
            "align_content": null,
            "align_items": null,
            "align_self": null,
            "border": null,
            "bottom": null,
            "display": null,
            "flex": null,
            "flex_flow": null,
            "grid_area": null,
            "grid_auto_columns": null,
            "grid_auto_flow": null,
            "grid_auto_rows": null,
            "grid_column": null,
            "grid_gap": null,
            "grid_row": null,
            "grid_template_areas": null,
            "grid_template_columns": null,
            "grid_template_rows": null,
            "height": null,
            "justify_content": null,
            "justify_items": null,
            "left": null,
            "margin": null,
            "max_height": null,
            "max_width": null,
            "min_height": null,
            "min_width": null,
            "object_fit": null,
            "object_position": null,
            "order": null,
            "overflow": null,
            "overflow_x": null,
            "overflow_y": null,
            "padding": null,
            "right": null,
            "top": null,
            "visibility": null,
            "width": null
          }
        },
        "72bae6487e5d4f868410c4de2c232845": {
          "model_module": "@jupyter-widgets/controls",
          "model_name": "DescriptionStyleModel",
          "model_module_version": "1.5.0",
          "state": {
            "_model_module": "@jupyter-widgets/controls",
            "_model_module_version": "1.5.0",
            "_model_name": "DescriptionStyleModel",
            "_view_count": null,
            "_view_module": "@jupyter-widgets/base",
            "_view_module_version": "1.2.0",
            "_view_name": "StyleView",
            "description_width": ""
          }
        },
        "710e4a72418f42c0b166b20cc85a4380": {
          "model_module": "@jupyter-widgets/controls",
          "model_name": "HBoxModel",
          "model_module_version": "1.5.0",
          "state": {
            "_dom_classes": [],
            "_model_module": "@jupyter-widgets/controls",
            "_model_module_version": "1.5.0",
            "_model_name": "HBoxModel",
            "_view_count": null,
            "_view_module": "@jupyter-widgets/controls",
            "_view_module_version": "1.5.0",
            "_view_name": "HBoxView",
            "box_style": "",
            "children": [
              "IPY_MODEL_016618e9eaef4d1ab889928e832c0c69",
              "IPY_MODEL_fc7b441f68c947899df2b1f42c0bf04a",
              "IPY_MODEL_e4961a4ebb294b0facbc3f8a38d90b29"
            ],
            "layout": "IPY_MODEL_5cce5a33e68a4d9a972f05339ce54c42"
          }
        },
        "016618e9eaef4d1ab889928e832c0c69": {
          "model_module": "@jupyter-widgets/controls",
          "model_name": "HTMLModel",
          "model_module_version": "1.5.0",
          "state": {
            "_dom_classes": [],
            "_model_module": "@jupyter-widgets/controls",
            "_model_module_version": "1.5.0",
            "_model_name": "HTMLModel",
            "_view_count": null,
            "_view_module": "@jupyter-widgets/controls",
            "_view_module_version": "1.5.0",
            "_view_name": "HTMLView",
            "description": "",
            "description_tooltip": null,
            "layout": "IPY_MODEL_4ddadcb74b2d4898aacc5977a9937e66",
            "placeholder": "​",
            "style": "IPY_MODEL_3a1cb07d718444f29832b013e3bc8726",
            "value": "100%"
          }
        },
        "fc7b441f68c947899df2b1f42c0bf04a": {
          "model_module": "@jupyter-widgets/controls",
          "model_name": "FloatProgressModel",
          "model_module_version": "1.5.0",
          "state": {
            "_dom_classes": [],
            "_model_module": "@jupyter-widgets/controls",
            "_model_module_version": "1.5.0",
            "_model_name": "FloatProgressModel",
            "_view_count": null,
            "_view_module": "@jupyter-widgets/controls",
            "_view_module_version": "1.5.0",
            "_view_name": "ProgressView",
            "bar_style": "success",
            "description": "",
            "description_tooltip": null,
            "layout": "IPY_MODEL_0e0f0c40eebb4185b10353005896efde",
            "max": 1648877,
            "min": 0,
            "orientation": "horizontal",
            "style": "IPY_MODEL_3b97a86e07ca44b289f922667617834b",
            "value": 1648877
          }
        },
        "e4961a4ebb294b0facbc3f8a38d90b29": {
          "model_module": "@jupyter-widgets/controls",
          "model_name": "HTMLModel",
          "model_module_version": "1.5.0",
          "state": {
            "_dom_classes": [],
            "_model_module": "@jupyter-widgets/controls",
            "_model_module_version": "1.5.0",
            "_model_name": "HTMLModel",
            "_view_count": null,
            "_view_module": "@jupyter-widgets/controls",
            "_view_module_version": "1.5.0",
            "_view_name": "HTMLView",
            "description": "",
            "description_tooltip": null,
            "layout": "IPY_MODEL_5af548081aa64fbabda6e4c94d9d6c0a",
            "placeholder": "​",
            "style": "IPY_MODEL_870f6c5465614a5cbc2e3e99c15ce92d",
            "value": " 1648877/1648877 [00:00&lt;00:00, 8094300.35it/s]"
          }
        },
        "5cce5a33e68a4d9a972f05339ce54c42": {
          "model_module": "@jupyter-widgets/base",
          "model_name": "LayoutModel",
          "model_module_version": "1.2.0",
          "state": {
            "_model_module": "@jupyter-widgets/base",
            "_model_module_version": "1.2.0",
            "_model_name": "LayoutModel",
            "_view_count": null,
            "_view_module": "@jupyter-widgets/base",
            "_view_module_version": "1.2.0",
            "_view_name": "LayoutView",
            "align_content": null,
            "align_items": null,
            "align_self": null,
            "border": null,
            "bottom": null,
            "display": null,
            "flex": null,
            "flex_flow": null,
            "grid_area": null,
            "grid_auto_columns": null,
            "grid_auto_flow": null,
            "grid_auto_rows": null,
            "grid_column": null,
            "grid_gap": null,
            "grid_row": null,
            "grid_template_areas": null,
            "grid_template_columns": null,
            "grid_template_rows": null,
            "height": null,
            "justify_content": null,
            "justify_items": null,
            "left": null,
            "margin": null,
            "max_height": null,
            "max_width": null,
            "min_height": null,
            "min_width": null,
            "object_fit": null,
            "object_position": null,
            "order": null,
            "overflow": null,
            "overflow_x": null,
            "overflow_y": null,
            "padding": null,
            "right": null,
            "top": null,
            "visibility": null,
            "width": null
          }
        },
        "4ddadcb74b2d4898aacc5977a9937e66": {
          "model_module": "@jupyter-widgets/base",
          "model_name": "LayoutModel",
          "model_module_version": "1.2.0",
          "state": {
            "_model_module": "@jupyter-widgets/base",
            "_model_module_version": "1.2.0",
            "_model_name": "LayoutModel",
            "_view_count": null,
            "_view_module": "@jupyter-widgets/base",
            "_view_module_version": "1.2.0",
            "_view_name": "LayoutView",
            "align_content": null,
            "align_items": null,
            "align_self": null,
            "border": null,
            "bottom": null,
            "display": null,
            "flex": null,
            "flex_flow": null,
            "grid_area": null,
            "grid_auto_columns": null,
            "grid_auto_flow": null,
            "grid_auto_rows": null,
            "grid_column": null,
            "grid_gap": null,
            "grid_row": null,
            "grid_template_areas": null,
            "grid_template_columns": null,
            "grid_template_rows": null,
            "height": null,
            "justify_content": null,
            "justify_items": null,
            "left": null,
            "margin": null,
            "max_height": null,
            "max_width": null,
            "min_height": null,
            "min_width": null,
            "object_fit": null,
            "object_position": null,
            "order": null,
            "overflow": null,
            "overflow_x": null,
            "overflow_y": null,
            "padding": null,
            "right": null,
            "top": null,
            "visibility": null,
            "width": null
          }
        },
        "3a1cb07d718444f29832b013e3bc8726": {
          "model_module": "@jupyter-widgets/controls",
          "model_name": "DescriptionStyleModel",
          "model_module_version": "1.5.0",
          "state": {
            "_model_module": "@jupyter-widgets/controls",
            "_model_module_version": "1.5.0",
            "_model_name": "DescriptionStyleModel",
            "_view_count": null,
            "_view_module": "@jupyter-widgets/base",
            "_view_module_version": "1.2.0",
            "_view_name": "StyleView",
            "description_width": ""
          }
        },
        "0e0f0c40eebb4185b10353005896efde": {
          "model_module": "@jupyter-widgets/base",
          "model_name": "LayoutModel",
          "model_module_version": "1.2.0",
          "state": {
            "_model_module": "@jupyter-widgets/base",
            "_model_module_version": "1.2.0",
            "_model_name": "LayoutModel",
            "_view_count": null,
            "_view_module": "@jupyter-widgets/base",
            "_view_module_version": "1.2.0",
            "_view_name": "LayoutView",
            "align_content": null,
            "align_items": null,
            "align_self": null,
            "border": null,
            "bottom": null,
            "display": null,
            "flex": null,
            "flex_flow": null,
            "grid_area": null,
            "grid_auto_columns": null,
            "grid_auto_flow": null,
            "grid_auto_rows": null,
            "grid_column": null,
            "grid_gap": null,
            "grid_row": null,
            "grid_template_areas": null,
            "grid_template_columns": null,
            "grid_template_rows": null,
            "height": null,
            "justify_content": null,
            "justify_items": null,
            "left": null,
            "margin": null,
            "max_height": null,
            "max_width": null,
            "min_height": null,
            "min_width": null,
            "object_fit": null,
            "object_position": null,
            "order": null,
            "overflow": null,
            "overflow_x": null,
            "overflow_y": null,
            "padding": null,
            "right": null,
            "top": null,
            "visibility": null,
            "width": null
          }
        },
        "3b97a86e07ca44b289f922667617834b": {
          "model_module": "@jupyter-widgets/controls",
          "model_name": "ProgressStyleModel",
          "model_module_version": "1.5.0",
          "state": {
            "_model_module": "@jupyter-widgets/controls",
            "_model_module_version": "1.5.0",
            "_model_name": "ProgressStyleModel",
            "_view_count": null,
            "_view_module": "@jupyter-widgets/base",
            "_view_module_version": "1.2.0",
            "_view_name": "StyleView",
            "bar_color": null,
            "description_width": ""
          }
        },
        "5af548081aa64fbabda6e4c94d9d6c0a": {
          "model_module": "@jupyter-widgets/base",
          "model_name": "LayoutModel",
          "model_module_version": "1.2.0",
          "state": {
            "_model_module": "@jupyter-widgets/base",
            "_model_module_version": "1.2.0",
            "_model_name": "LayoutModel",
            "_view_count": null,
            "_view_module": "@jupyter-widgets/base",
            "_view_module_version": "1.2.0",
            "_view_name": "LayoutView",
            "align_content": null,
            "align_items": null,
            "align_self": null,
            "border": null,
            "bottom": null,
            "display": null,
            "flex": null,
            "flex_flow": null,
            "grid_area": null,
            "grid_auto_columns": null,
            "grid_auto_flow": null,
            "grid_auto_rows": null,
            "grid_column": null,
            "grid_gap": null,
            "grid_row": null,
            "grid_template_areas": null,
            "grid_template_columns": null,
            "grid_template_rows": null,
            "height": null,
            "justify_content": null,
            "justify_items": null,
            "left": null,
            "margin": null,
            "max_height": null,
            "max_width": null,
            "min_height": null,
            "min_width": null,
            "object_fit": null,
            "object_position": null,
            "order": null,
            "overflow": null,
            "overflow_x": null,
            "overflow_y": null,
            "padding": null,
            "right": null,
            "top": null,
            "visibility": null,
            "width": null
          }
        },
        "870f6c5465614a5cbc2e3e99c15ce92d": {
          "model_module": "@jupyter-widgets/controls",
          "model_name": "DescriptionStyleModel",
          "model_module_version": "1.5.0",
          "state": {
            "_model_module": "@jupyter-widgets/controls",
            "_model_module_version": "1.5.0",
            "_model_name": "DescriptionStyleModel",
            "_view_count": null,
            "_view_module": "@jupyter-widgets/base",
            "_view_module_version": "1.2.0",
            "_view_name": "StyleView",
            "description_width": ""
          }
        },
        "d1e46e8472c04f7094699bcfc221d5cd": {
          "model_module": "@jupyter-widgets/controls",
          "model_name": "HBoxModel",
          "model_module_version": "1.5.0",
          "state": {
            "_dom_classes": [],
            "_model_module": "@jupyter-widgets/controls",
            "_model_module_version": "1.5.0",
            "_model_name": "HBoxModel",
            "_view_count": null,
            "_view_module": "@jupyter-widgets/controls",
            "_view_module_version": "1.5.0",
            "_view_name": "HBoxView",
            "box_style": "",
            "children": [
              "IPY_MODEL_721a626ae8494b5584815721859161c4",
              "IPY_MODEL_7adb8ab3a45d42f984a2500a8b3f489e",
              "IPY_MODEL_7ca1b92a5b574567aba11d47e634afba"
            ],
            "layout": "IPY_MODEL_b171ce91658a4f489c6dce11b02827b9"
          }
        },
        "721a626ae8494b5584815721859161c4": {
          "model_module": "@jupyter-widgets/controls",
          "model_name": "HTMLModel",
          "model_module_version": "1.5.0",
          "state": {
            "_dom_classes": [],
            "_model_module": "@jupyter-widgets/controls",
            "_model_module_version": "1.5.0",
            "_model_name": "HTMLModel",
            "_view_count": null,
            "_view_module": "@jupyter-widgets/controls",
            "_view_module_version": "1.5.0",
            "_view_name": "HTMLView",
            "description": "",
            "description_tooltip": null,
            "layout": "IPY_MODEL_f0ade0a343204d139c16a64628a60fc6",
            "placeholder": "​",
            "style": "IPY_MODEL_0694b90ebe324f0a8e2162220879b2ad",
            "value": "100%"
          }
        },
        "7adb8ab3a45d42f984a2500a8b3f489e": {
          "model_module": "@jupyter-widgets/controls",
          "model_name": "FloatProgressModel",
          "model_module_version": "1.5.0",
          "state": {
            "_dom_classes": [],
            "_model_module": "@jupyter-widgets/controls",
            "_model_module_version": "1.5.0",
            "_model_name": "FloatProgressModel",
            "_view_count": null,
            "_view_module": "@jupyter-widgets/controls",
            "_view_module_version": "1.5.0",
            "_view_name": "ProgressView",
            "bar_style": "success",
            "description": "",
            "description_tooltip": null,
            "layout": "IPY_MODEL_8e9accf11c1b4959aca4ea0121379976",
            "max": 4542,
            "min": 0,
            "orientation": "horizontal",
            "style": "IPY_MODEL_75dc47a5d74542deaae091c3a016913e",
            "value": 4542
          }
        },
        "7ca1b92a5b574567aba11d47e634afba": {
          "model_module": "@jupyter-widgets/controls",
          "model_name": "HTMLModel",
          "model_module_version": "1.5.0",
          "state": {
            "_dom_classes": [],
            "_model_module": "@jupyter-widgets/controls",
            "_model_module_version": "1.5.0",
            "_model_name": "HTMLModel",
            "_view_count": null,
            "_view_module": "@jupyter-widgets/controls",
            "_view_module_version": "1.5.0",
            "_view_name": "HTMLView",
            "description": "",
            "description_tooltip": null,
            "layout": "IPY_MODEL_9fcbe0bac76e4ef08f467484ec2c47c0",
            "placeholder": "​",
            "style": "IPY_MODEL_d9b1d002dfdf469d88ada3112a2fa1cd",
            "value": " 4542/4542 [00:00&lt;00:00, 101769.45it/s]"
          }
        },
        "b171ce91658a4f489c6dce11b02827b9": {
          "model_module": "@jupyter-widgets/base",
          "model_name": "LayoutModel",
          "model_module_version": "1.2.0",
          "state": {
            "_model_module": "@jupyter-widgets/base",
            "_model_module_version": "1.2.0",
            "_model_name": "LayoutModel",
            "_view_count": null,
            "_view_module": "@jupyter-widgets/base",
            "_view_module_version": "1.2.0",
            "_view_name": "LayoutView",
            "align_content": null,
            "align_items": null,
            "align_self": null,
            "border": null,
            "bottom": null,
            "display": null,
            "flex": null,
            "flex_flow": null,
            "grid_area": null,
            "grid_auto_columns": null,
            "grid_auto_flow": null,
            "grid_auto_rows": null,
            "grid_column": null,
            "grid_gap": null,
            "grid_row": null,
            "grid_template_areas": null,
            "grid_template_columns": null,
            "grid_template_rows": null,
            "height": null,
            "justify_content": null,
            "justify_items": null,
            "left": null,
            "margin": null,
            "max_height": null,
            "max_width": null,
            "min_height": null,
            "min_width": null,
            "object_fit": null,
            "object_position": null,
            "order": null,
            "overflow": null,
            "overflow_x": null,
            "overflow_y": null,
            "padding": null,
            "right": null,
            "top": null,
            "visibility": null,
            "width": null
          }
        },
        "f0ade0a343204d139c16a64628a60fc6": {
          "model_module": "@jupyter-widgets/base",
          "model_name": "LayoutModel",
          "model_module_version": "1.2.0",
          "state": {
            "_model_module": "@jupyter-widgets/base",
            "_model_module_version": "1.2.0",
            "_model_name": "LayoutModel",
            "_view_count": null,
            "_view_module": "@jupyter-widgets/base",
            "_view_module_version": "1.2.0",
            "_view_name": "LayoutView",
            "align_content": null,
            "align_items": null,
            "align_self": null,
            "border": null,
            "bottom": null,
            "display": null,
            "flex": null,
            "flex_flow": null,
            "grid_area": null,
            "grid_auto_columns": null,
            "grid_auto_flow": null,
            "grid_auto_rows": null,
            "grid_column": null,
            "grid_gap": null,
            "grid_row": null,
            "grid_template_areas": null,
            "grid_template_columns": null,
            "grid_template_rows": null,
            "height": null,
            "justify_content": null,
            "justify_items": null,
            "left": null,
            "margin": null,
            "max_height": null,
            "max_width": null,
            "min_height": null,
            "min_width": null,
            "object_fit": null,
            "object_position": null,
            "order": null,
            "overflow": null,
            "overflow_x": null,
            "overflow_y": null,
            "padding": null,
            "right": null,
            "top": null,
            "visibility": null,
            "width": null
          }
        },
        "0694b90ebe324f0a8e2162220879b2ad": {
          "model_module": "@jupyter-widgets/controls",
          "model_name": "DescriptionStyleModel",
          "model_module_version": "1.5.0",
          "state": {
            "_model_module": "@jupyter-widgets/controls",
            "_model_module_version": "1.5.0",
            "_model_name": "DescriptionStyleModel",
            "_view_count": null,
            "_view_module": "@jupyter-widgets/base",
            "_view_module_version": "1.2.0",
            "_view_name": "StyleView",
            "description_width": ""
          }
        },
        "8e9accf11c1b4959aca4ea0121379976": {
          "model_module": "@jupyter-widgets/base",
          "model_name": "LayoutModel",
          "model_module_version": "1.2.0",
          "state": {
            "_model_module": "@jupyter-widgets/base",
            "_model_module_version": "1.2.0",
            "_model_name": "LayoutModel",
            "_view_count": null,
            "_view_module": "@jupyter-widgets/base",
            "_view_module_version": "1.2.0",
            "_view_name": "LayoutView",
            "align_content": null,
            "align_items": null,
            "align_self": null,
            "border": null,
            "bottom": null,
            "display": null,
            "flex": null,
            "flex_flow": null,
            "grid_area": null,
            "grid_auto_columns": null,
            "grid_auto_flow": null,
            "grid_auto_rows": null,
            "grid_column": null,
            "grid_gap": null,
            "grid_row": null,
            "grid_template_areas": null,
            "grid_template_columns": null,
            "grid_template_rows": null,
            "height": null,
            "justify_content": null,
            "justify_items": null,
            "left": null,
            "margin": null,
            "max_height": null,
            "max_width": null,
            "min_height": null,
            "min_width": null,
            "object_fit": null,
            "object_position": null,
            "order": null,
            "overflow": null,
            "overflow_x": null,
            "overflow_y": null,
            "padding": null,
            "right": null,
            "top": null,
            "visibility": null,
            "width": null
          }
        },
        "75dc47a5d74542deaae091c3a016913e": {
          "model_module": "@jupyter-widgets/controls",
          "model_name": "ProgressStyleModel",
          "model_module_version": "1.5.0",
          "state": {
            "_model_module": "@jupyter-widgets/controls",
            "_model_module_version": "1.5.0",
            "_model_name": "ProgressStyleModel",
            "_view_count": null,
            "_view_module": "@jupyter-widgets/base",
            "_view_module_version": "1.2.0",
            "_view_name": "StyleView",
            "bar_color": null,
            "description_width": ""
          }
        },
        "9fcbe0bac76e4ef08f467484ec2c47c0": {
          "model_module": "@jupyter-widgets/base",
          "model_name": "LayoutModel",
          "model_module_version": "1.2.0",
          "state": {
            "_model_module": "@jupyter-widgets/base",
            "_model_module_version": "1.2.0",
            "_model_name": "LayoutModel",
            "_view_count": null,
            "_view_module": "@jupyter-widgets/base",
            "_view_module_version": "1.2.0",
            "_view_name": "LayoutView",
            "align_content": null,
            "align_items": null,
            "align_self": null,
            "border": null,
            "bottom": null,
            "display": null,
            "flex": null,
            "flex_flow": null,
            "grid_area": null,
            "grid_auto_columns": null,
            "grid_auto_flow": null,
            "grid_auto_rows": null,
            "grid_column": null,
            "grid_gap": null,
            "grid_row": null,
            "grid_template_areas": null,
            "grid_template_columns": null,
            "grid_template_rows": null,
            "height": null,
            "justify_content": null,
            "justify_items": null,
            "left": null,
            "margin": null,
            "max_height": null,
            "max_width": null,
            "min_height": null,
            "min_width": null,
            "object_fit": null,
            "object_position": null,
            "order": null,
            "overflow": null,
            "overflow_x": null,
            "overflow_y": null,
            "padding": null,
            "right": null,
            "top": null,
            "visibility": null,
            "width": null
          }
        },
        "d9b1d002dfdf469d88ada3112a2fa1cd": {
          "model_module": "@jupyter-widgets/controls",
          "model_name": "DescriptionStyleModel",
          "model_module_version": "1.5.0",
          "state": {
            "_model_module": "@jupyter-widgets/controls",
            "_model_module_version": "1.5.0",
            "_model_name": "DescriptionStyleModel",
            "_view_count": null,
            "_view_module": "@jupyter-widgets/base",
            "_view_module_version": "1.2.0",
            "_view_name": "StyleView",
            "description_width": ""
          }
        }
      }
    }
  },
  "cells": [
    {
      "cell_type": "code",
      "execution_count": null,
      "metadata": {
        "id": "wEBQzgAdz_G_"
      },
      "outputs": [],
      "source": [
        "# Imports\n",
        "import torch\n",
        "import torchvision\n",
        "from torchvision.datasets import MNIST\n",
        "import matplotlib.pyplot as plt\n",
        "%matplotlib inline \n",
        "import torchvision.transforms as transforms \n",
        "from torch.utils.data import random_split\n",
        "from torch.utils.data import DataLoader\n",
        "import torch.nn as nn"
      ]
    },
    {
      "cell_type": "code",
      "source": [
        "# Download training dataset\n",
        "dataset = MNIST(root='data/', download=True)"
      ],
      "metadata": {
        "id": "itr9PhpXOZ_k",
        "colab": {
          "base_uri": "https://localhost:8080/",
          "height": 423,
          "referenced_widgets": [
            "b9d67792d79e4767a70dfd0f307d2278",
            "63a4294d90d246bdab1e4109a46c1dd5",
            "04a512d1386848d493e758370e1d4111",
            "e9b4f433b3064dd8a342d01d3bb74b5f",
            "211bf3f9cbdd4d2b81394cbf97ae8612",
            "98a4ab5defa84ac4bdd23a76c41ebb28",
            "019ff748aa2e498aa6e0be0ee06f7526",
            "8dc67ccfd10043e4920baa48a42df2ef",
            "390ee7f52e9c4df1b913af167e755b79",
            "5de767c370894dc5a39be78707b7174d",
            "3cddbb10f3fe44cbbec7e7493b9efcef",
            "00ae8c22ad7f4686ade5e8ff47347c75",
            "39f935d32c7f44ac83be0eb748f7bb73",
            "c1675b2a0e3f453f9f65dba285b00bc7",
            "7126eac7034f4d80b64ef5146330e073",
            "5972fe65b89742519d8220152ddd689e",
            "d779b651ad264a2cb2fabfdf561fda7a",
            "19fcd368aa0146c5b01135f3cde8d583",
            "4f4af3c2d0724587be036dc0f30426b8",
            "8d91d8b6e6f9434a8e4f6184b222130e",
            "b652661828b347b1bb070dc12286d3f4",
            "72bae6487e5d4f868410c4de2c232845",
            "710e4a72418f42c0b166b20cc85a4380",
            "016618e9eaef4d1ab889928e832c0c69",
            "fc7b441f68c947899df2b1f42c0bf04a",
            "e4961a4ebb294b0facbc3f8a38d90b29",
            "5cce5a33e68a4d9a972f05339ce54c42",
            "4ddadcb74b2d4898aacc5977a9937e66",
            "3a1cb07d718444f29832b013e3bc8726",
            "0e0f0c40eebb4185b10353005896efde",
            "3b97a86e07ca44b289f922667617834b",
            "5af548081aa64fbabda6e4c94d9d6c0a",
            "870f6c5465614a5cbc2e3e99c15ce92d",
            "d1e46e8472c04f7094699bcfc221d5cd",
            "721a626ae8494b5584815721859161c4",
            "7adb8ab3a45d42f984a2500a8b3f489e",
            "7ca1b92a5b574567aba11d47e634afba",
            "b171ce91658a4f489c6dce11b02827b9",
            "f0ade0a343204d139c16a64628a60fc6",
            "0694b90ebe324f0a8e2162220879b2ad",
            "8e9accf11c1b4959aca4ea0121379976",
            "75dc47a5d74542deaae091c3a016913e",
            "9fcbe0bac76e4ef08f467484ec2c47c0",
            "d9b1d002dfdf469d88ada3112a2fa1cd"
          ]
        },
        "outputId": "dd5969ee-d970-460c-864c-51f34ddc2d71"
      },
      "execution_count": null,
      "outputs": [
        {
          "output_type": "stream",
          "name": "stdout",
          "text": [
            "Downloading http://yann.lecun.com/exdb/mnist/train-images-idx3-ubyte.gz\n",
            "Downloading http://yann.lecun.com/exdb/mnist/train-images-idx3-ubyte.gz to data/MNIST/raw/train-images-idx3-ubyte.gz\n"
          ]
        },
        {
          "output_type": "display_data",
          "data": {
            "text/plain": [
              "  0%|          | 0/9912422 [00:00<?, ?it/s]"
            ],
            "application/vnd.jupyter.widget-view+json": {
              "version_major": 2,
              "version_minor": 0,
              "model_id": "b9d67792d79e4767a70dfd0f307d2278"
            }
          },
          "metadata": {}
        },
        {
          "output_type": "stream",
          "name": "stdout",
          "text": [
            "Extracting data/MNIST/raw/train-images-idx3-ubyte.gz to data/MNIST/raw\n",
            "\n",
            "Downloading http://yann.lecun.com/exdb/mnist/train-labels-idx1-ubyte.gz\n",
            "Downloading http://yann.lecun.com/exdb/mnist/train-labels-idx1-ubyte.gz to data/MNIST/raw/train-labels-idx1-ubyte.gz\n"
          ]
        },
        {
          "output_type": "display_data",
          "data": {
            "text/plain": [
              "  0%|          | 0/28881 [00:00<?, ?it/s]"
            ],
            "application/vnd.jupyter.widget-view+json": {
              "version_major": 2,
              "version_minor": 0,
              "model_id": "00ae8c22ad7f4686ade5e8ff47347c75"
            }
          },
          "metadata": {}
        },
        {
          "output_type": "stream",
          "name": "stdout",
          "text": [
            "Extracting data/MNIST/raw/train-labels-idx1-ubyte.gz to data/MNIST/raw\n",
            "\n",
            "Downloading http://yann.lecun.com/exdb/mnist/t10k-images-idx3-ubyte.gz\n",
            "Downloading http://yann.lecun.com/exdb/mnist/t10k-images-idx3-ubyte.gz to data/MNIST/raw/t10k-images-idx3-ubyte.gz\n"
          ]
        },
        {
          "output_type": "display_data",
          "data": {
            "text/plain": [
              "  0%|          | 0/1648877 [00:00<?, ?it/s]"
            ],
            "application/vnd.jupyter.widget-view+json": {
              "version_major": 2,
              "version_minor": 0,
              "model_id": "710e4a72418f42c0b166b20cc85a4380"
            }
          },
          "metadata": {}
        },
        {
          "output_type": "stream",
          "name": "stdout",
          "text": [
            "Extracting data/MNIST/raw/t10k-images-idx3-ubyte.gz to data/MNIST/raw\n",
            "\n",
            "Downloading http://yann.lecun.com/exdb/mnist/t10k-labels-idx1-ubyte.gz\n",
            "Downloading http://yann.lecun.com/exdb/mnist/t10k-labels-idx1-ubyte.gz to data/MNIST/raw/t10k-labels-idx1-ubyte.gz\n"
          ]
        },
        {
          "output_type": "display_data",
          "data": {
            "text/plain": [
              "  0%|          | 0/4542 [00:00<?, ?it/s]"
            ],
            "application/vnd.jupyter.widget-view+json": {
              "version_major": 2,
              "version_minor": 0,
              "model_id": "d1e46e8472c04f7094699bcfc221d5cd"
            }
          },
          "metadata": {}
        },
        {
          "output_type": "stream",
          "name": "stdout",
          "text": [
            "Extracting data/MNIST/raw/t10k-labels-idx1-ubyte.gz to data/MNIST/raw\n",
            "\n"
          ]
        }
      ]
    },
    {
      "cell_type": "code",
      "source": [
        "len(dataset)"
      ],
      "metadata": {
        "colab": {
          "base_uri": "https://localhost:8080/"
        },
        "id": "uClurC1GOxKC",
        "outputId": "9aae3225-7855-4c93-91ad-d957e5db8a4a"
      },
      "execution_count": null,
      "outputs": [
        {
          "output_type": "execute_result",
          "data": {
            "text/plain": [
              "60000"
            ]
          },
          "metadata": {},
          "execution_count": 3
        }
      ]
    },
    {
      "cell_type": "code",
      "source": [
        "test_dataset = MNIST(root='data/', train=False)\n",
        "len(test_dataset)"
      ],
      "metadata": {
        "colab": {
          "base_uri": "https://localhost:8080/"
        },
        "id": "U9aMKOS2PO37",
        "outputId": "85381d7c-5fc2-4e29-9c57-e69290ae3b38"
      },
      "execution_count": null,
      "outputs": [
        {
          "output_type": "execute_result",
          "data": {
            "text/plain": [
              "10000"
            ]
          },
          "metadata": {},
          "execution_count": 4
        }
      ]
    },
    {
      "cell_type": "code",
      "source": [
        "dataset[0], dataset[1], dataset[2], dataset[3], dataset[4], dataset[5], dataset[6], dataset[7], dataset[8], dataset[9], dataset[10]"
      ],
      "metadata": {
        "colab": {
          "base_uri": "https://localhost:8080/"
        },
        "id": "BanROLtZV3vi",
        "outputId": "6e49a3c0-2627-4258-d2f5-f745bf526912"
      },
      "execution_count": null,
      "outputs": [
        {
          "output_type": "execute_result",
          "data": {
            "text/plain": [
              "((<PIL.Image.Image image mode=L size=28x28 at 0x7FCA8A2DC350>, 5),\n",
              " (<PIL.Image.Image image mode=L size=28x28 at 0x7FCA8A2DC410>, 0),\n",
              " (<PIL.Image.Image image mode=L size=28x28 at 0x7FCA8A2DC450>, 4),\n",
              " (<PIL.Image.Image image mode=L size=28x28 at 0x7FCA8A2DC550>, 1),\n",
              " (<PIL.Image.Image image mode=L size=28x28 at 0x7FCA8A2DC110>, 9),\n",
              " (<PIL.Image.Image image mode=L size=28x28 at 0x7FCA8A2DC5D0>, 2),\n",
              " (<PIL.Image.Image image mode=L size=28x28 at 0x7FCAFE538D90>, 1),\n",
              " (<PIL.Image.Image image mode=L size=28x28 at 0x7FCA8A2EEC50>, 3),\n",
              " (<PIL.Image.Image image mode=L size=28x28 at 0x7FCA8A2EEC90>, 1),\n",
              " (<PIL.Image.Image image mode=L size=28x28 at 0x7FCA8A2EECD0>, 4),\n",
              " (<PIL.Image.Image image mode=L size=28x28 at 0x7FCA8A2EED10>, 3))"
            ]
          },
          "metadata": {},
          "execution_count": 5
        }
      ]
    },
    {
      "cell_type": "markdown",
      "source": [
        "import matplotlib.pyplot as plt"
      ],
      "metadata": {
        "id": "iiSh3KjqjFSq"
      }
    },
    {
      "cell_type": "code",
      "source": [
        "image, label = dataset[0]\n",
        "plt.imshow(image, cmap='gray')\n",
        "print('Label:', label)"
      ],
      "metadata": {
        "colab": {
          "base_uri": "https://localhost:8080/",
          "height": 282
        },
        "id": "q6psOEZ3jLhp",
        "outputId": "81da24b5-92c6-400b-e8fd-18e928c1e4d8"
      },
      "execution_count": null,
      "outputs": [
        {
          "output_type": "stream",
          "name": "stdout",
          "text": [
            "Label: 5\n"
          ]
        },
        {
          "output_type": "display_data",
          "data": {
            "text/plain": [
              "<Figure size 432x288 with 1 Axes>"
            ],
            "image/png": "[encoded data removed]"
          },
          "metadata": {
            "needs_background": "light"
          }
        }
      ]
    },
    {
      "cell_type": "code",
      "source": [
        "image, label = dataset[10]\n",
        "plt.imshow(image, cmap='gray')\n",
        "print('Label:', label)"
      ],
      "metadata": {
        "colab": {
          "base_uri": "https://localhost:8080/",
          "height": 282
        },
        "id": "Hn3ufRaMjYI6",
        "outputId": "8cff4b10-2094-4915-fdd7-c4551d32e83b"
      },
      "execution_count": null,
      "outputs": [
        {
          "output_type": "stream",
          "name": "stdout",
          "text": [
            "Label: 3\n"
          ]
        },
        {
          "output_type": "display_data",
          "data": {
            "text/plain": [
              "<Figure size 432x288 with 1 Axes>"
            ],
            "image/png": "[encoded data removed]"
          },
          "metadata": {
            "needs_background": "light"
          }
        }
      ]
    },
    {
      "cell_type": "markdown",
      "source": [
        "import torchvision.transforms as transforms. \n",
        "\n",
        "PyTorch doesn't know how to work with images. We need to convert the images into tensors."
      ],
      "metadata": {
        "id": "YavgCmbSl0B6"
      }
    },
    {
      "cell_type": "code",
      "source": [
        "# MNIST dataset (images and labels)\n",
        "dataset = MNIST(root='data/', \n",
        "                train=True,\n",
        "                transform=transforms.ToTensor())\n",
        "                # use the ToTensor transform to convert images into PyTorch tensors."
      ],
      "metadata": {
        "id": "mYBQkuypl085"
      },
      "execution_count": null,
      "outputs": []
    },
    {
      "cell_type": "markdown",
      "source": [
        "previously we printed as the real image. \n"
      ],
      "metadata": {
        "id": "Bsc93gTfohI7"
      }
    },
    {
      "cell_type": "code",
      "source": [
        "img_tensor, label = dataset[0]\n",
        "print(img_tensor.shape, label)"
      ],
      "metadata": {
        "colab": {
          "base_uri": "https://localhost:8080/"
        },
        "id": "VTbb-yMInoOR",
        "outputId": "df849e6d-0b9a-47de-b353-5c6b0d61b3c5"
      },
      "execution_count": null,
      "outputs": [
        {
          "output_type": "stream",
          "name": "stdout",
          "text": [
            "torch.Size([1, 28, 28]) 5\n"
          ]
        }
      ]
    },
    {
      "cell_type": "markdown",
      "source": [
        "The first dimension tracks color channels. The second and third dimensions represent pixels along the height and width of the image, respectively."
      ],
      "metadata": {
        "id": "P2Yw_Dk4q8_i"
      }
    },
    {
      "cell_type": "code",
      "source": [
        "print(img_tensor[0,10:15,10:15])\n",
        "print(torch.max(img_tensor), torch.min(img_tensor))"
      ],
      "metadata": {
        "id": "abDmeXqwoVgp",
        "colab": {
          "base_uri": "https://localhost:8080/"
        },
        "outputId": "ee945e5e-e188-4c0b-b759-2128c4444157"
      },
      "execution_count": null,
      "outputs": [
        {
          "output_type": "stream",
          "name": "stdout",
          "text": [
            "tensor([[0.0039, 0.6039, 0.9922, 0.3529, 0.0000],\n",
            "        [0.0000, 0.5451, 0.9922, 0.7451, 0.0078],\n",
            "        [0.0000, 0.0431, 0.7451, 0.9922, 0.2745],\n",
            "        [0.0000, 0.0000, 0.1373, 0.9451, 0.8824],\n",
            "        [0.0000, 0.0000, 0.0000, 0.3176, 0.9412]])\n",
            "tensor(1.) tensor(0.)\n"
          ]
        }
      ]
    },
    {
      "cell_type": "code",
      "source": [
        "# Plot the image by passing in the 28x28 matrix\n",
        "plt.imshow(img_tensor[0,10:15,10:15], cmap='gray');"
      ],
      "metadata": {
        "colab": {
          "base_uri": "https://localhost:8080/",
          "height": 265
        },
        "id": "Dwk-_6yGBkem",
        "outputId": "3268be7c-162f-46f0-ab74-5b816073c1f0"
      },
      "execution_count": null,
      "outputs": [
        {
          "output_type": "display_data",
          "data": {
            "text/plain": [
              "<Figure size 432x288 with 1 Axes>"
            ],
            "image/png": "[encoded data removed]"
          },
          "metadata": {
            "needs_background": "light"
          }
        }
      ]
    },
    {
      "cell_type": "code",
      "source": [
        "import numpy as np\n",
        "\n",
        "def split_indices(n, val_pct):\n",
        "  n = 60000 \n",
        "  val_pct = 0.1\n",
        "\n",
        "  n_val = int(val_pct*n)\n",
        "\n",
        "  idxs = np.random.permutation(n)    # a random permutation of 0 to (n-1)\n",
        "  return idxs[n_val:], idxs[:n_val]"
      ],
      "metadata": {
        "id": "ZWSy6mSFqWS8"
      },
      "execution_count": null,
      "outputs": []
    },
    {
      "cell_type": "code",
      "source": [
        "train_indices, val_indices = split_indices(len(dataset), val_pct=0.2)"
      ],
      "metadata": {
        "id": "45WLH39PzUVn"
      },
      "execution_count": null,
      "outputs": []
    },
    {
      "cell_type": "code",
      "source": [
        "print(len(train_indices), len(val_indices))\n",
        "print(\"Sample indices \", val_indices[:20])"
      ],
      "metadata": {
        "colab": {
          "base_uri": "https://localhost:8080/"
        },
        "id": "3uU68hsYz2se",
        "outputId": "7f945b5d-f31f-4ef7-814b-fef68930c17e"
      },
      "execution_count": null,
      "outputs": [
        {
          "output_type": "stream",
          "name": "stdout",
          "text": [
            "54000 6000\n",
            "Sample indices  [57084  5379 41631  6933 46346 51078  2450 51512  5867 30462 36390  6379\n",
            " 16671 28512 32144 45058    82 26509 23548 30171]\n"
          ]
        }
      ]
    },
    {
      "cell_type": "code",
      "source": [
        "from torch.utils.data.sampler import SubsetRandomSampler\n",
        "from torch.utils.data.dataloader import DataLoader"
      ],
      "metadata": {
        "id": "0a6eQHwF2SDA"
      },
      "execution_count": null,
      "outputs": []
    },
    {
      "cell_type": "code",
      "source": [
        "batch_size = 100\n",
        "\n",
        "# Trainig sampler and data loader \n",
        "train_sampler = SubsetRandomSampler(train_indices)\n",
        "train_loader = DataLoader(dataset,\n",
        "                          batch_size,\n",
        "                          sampler=train_sampler)\n",
        "\n",
        "# Validation sampler and data loader \n",
        "val_sampler = SubsetRandomSampler(val_indices)\n",
        "val_loader = DataLoader(dataset,\n",
        "                          batch_size,\n",
        "                          sampler=val_sampler)"
      ],
      "metadata": {
        "id": "z3ecfAiJP0_2"
      },
      "execution_count": null,
      "outputs": []
    },
    {
      "cell_type": "markdown",
      "source": [
        "In the MNIST dataset, there are 60,000 training images and 10,000 test images. The test set is standardized so that different researchers can report their models' results against the same collection of images.\n",
        "\n",
        "Since there's no predefined validation set, we must manually split the 60,000 images into training and validation datasets. Let's set aside 10,000 randomly chosen images for validation. We can do this using the random_spilt method from PyTorch."
      ],
      "metadata": {
        "id": "yvknZEJ2HWnF"
      }
    },
    {
      "cell_type": "code",
      "source": [
        "# # from torch.utils.data import DataLoader\n",
        "\n",
        "# batch_size = 128\n",
        "\n",
        "# train_loader = DataLoader(train_ds, batch_size, shuffle=True)\n",
        "# val_loader = DataLoader(val_ds, batch_size)"
      ],
      "metadata": {
        "id": "3p0UzYIAHl2i"
      },
      "execution_count": null,
      "outputs": []
    },
    {
      "cell_type": "code",
      "source": [
        "# import torch.nn as nn\n",
        "\n",
        "input_size = 28*28\n",
        "num_classes = 10\n",
        "\n",
        "# Logistic regression model\n",
        "model = nn.Linear(input_size, num_classes)"
      ],
      "metadata": {
        "id": "Ago9uzFPRffZ"
      },
      "execution_count": null,
      "outputs": []
    },
    {
      "cell_type": "code",
      "source": [
        "print(model.weight.shape)\n",
        "model.weight"
      ],
      "metadata": {
        "id": "IHGegtohTQKn",
        "colab": {
          "base_uri": "https://localhost:8080/"
        },
        "outputId": "21cc6d49-e1d2-46af-d3bc-eb07bfe9dc7e"
      },
      "execution_count": null,
      "outputs": [
        {
          "output_type": "stream",
          "name": "stdout",
          "text": [
            "torch.Size([10, 784])\n"
          ]
        },
        {
          "output_type": "execute_result",
          "data": {
            "text/plain": [
              "Parameter containing:\n",
              "tensor([[-0.0279,  0.0223, -0.0264,  ...,  0.0355, -0.0131, -0.0297],\n",
              "        [ 0.0103, -0.0076,  0.0196,  ..., -0.0309,  0.0353,  0.0291],\n",
              "        [-0.0303,  0.0132, -0.0083,  ...,  0.0241,  0.0109,  0.0282],\n",
              "        ...,\n",
              "        [ 0.0197,  0.0049,  0.0005,  ...,  0.0143, -0.0068,  0.0287],\n",
              "        [-0.0321,  0.0199,  0.0353,  ...,  0.0350, -0.0331,  0.0311],\n",
              "        [-0.0116,  0.0112,  0.0057,  ...,  0.0261, -0.0233,  0.0041]],\n",
              "       requires_grad=True)"
            ]
          },
          "metadata": {},
          "execution_count": 19
        }
      ]
    },
    {
      "cell_type": "code",
      "source": [
        "print(model.bias.shape)\n",
        "model.bias"
      ],
      "metadata": {
        "id": "umFFPgdxTiIA",
        "colab": {
          "base_uri": "https://localhost:8080/"
        },
        "outputId": "971fdc44-e29a-489e-b87f-e4c00290b360"
      },
      "execution_count": null,
      "outputs": [
        {
          "output_type": "stream",
          "name": "stdout",
          "text": [
            "torch.Size([10])\n"
          ]
        },
        {
          "output_type": "execute_result",
          "data": {
            "text/plain": [
              "Parameter containing:\n",
              "tensor([ 0.0027, -0.0329,  0.0229, -0.0050, -0.0221, -0.0171,  0.0187,  0.0267,\n",
              "        -0.0101, -0.0241], requires_grad=True)"
            ]
          },
          "metadata": {},
          "execution_count": 20
        }
      ]
    },
    {
      "cell_type": "code",
      "source": [
        "for images, labels in train_loader:\n",
        "    print(labels)\n",
        "    print(images.shape)\n",
        "    outputs = model(images)\n",
        "    print(outputs)\n",
        "    break"
      ],
      "metadata": {
        "id": "JBIMo3uLTrpQ",
        "colab": {
          "base_uri": "https://localhost:8080/",
          "height": 484
        },
        "outputId": "17bf53f5-eff9-46c6-cf4f-66cd4b2116c5"
      },
      "execution_count": null,
      "outputs": [
        {
          "output_type": "stream",
          "name": "stdout",
          "text": [
            "tensor([7, 2, 2, 8, 5, 0, 6, 8, 4, 8, 4, 3, 8, 5, 0, 3, 2, 4, 1, 3, 0, 5, 6, 7,\n",
            "        5, 6, 3, 5, 9, 8, 8, 1, 4, 1, 1, 3, 3, 7, 4, 8, 3, 5, 8, 9, 3, 9, 5, 1,\n",
            "        5, 0, 8, 2, 1, 9, 4, 5, 2, 6, 8, 0, 0, 2, 1, 3, 5, 6, 4, 4, 6, 5, 2, 6,\n",
            "        3, 6, 9, 5, 2, 8, 0, 0, 9, 8, 3, 6, 5, 3, 5, 8, 8, 4, 9, 0, 9, 3, 0, 6,\n",
            "        3, 7, 0, 1])\n",
            "torch.Size([100, 1, 28, 28])\n"
          ]
        },
        {
          "output_type": "error",
          "ename": "RuntimeError",
          "evalue": "ignored",
          "traceback": [
            "\u001b[0;31m---------------------------------------------------------------------------\u001b[0m",
            "\u001b[0;31mRuntimeError\u001b[0m                              Traceback (most recent call last)",
            "\u001b[0;32m<ipython-input-21-d0fe7d306f83>\u001b[0m in \u001b[0;36m<module>\u001b[0;34m\u001b[0m\n\u001b[1;32m      2\u001b[0m     \u001b[0mprint\u001b[0m\u001b[0;34m(\u001b[0m\u001b[0mlabels\u001b[0m\u001b[0;34m)\u001b[0m\u001b[0;34m\u001b[0m\u001b[0;34m\u001b[0m\u001b[0m\n\u001b[1;32m      3\u001b[0m     \u001b[0mprint\u001b[0m\u001b[0;34m(\u001b[0m\u001b[0mimages\u001b[0m\u001b[0;34m.\u001b[0m\u001b[0mshape\u001b[0m\u001b[0;34m)\u001b[0m\u001b[0;34m\u001b[0m\u001b[0;34m\u001b[0m\u001b[0m\n\u001b[0;32m----> 4\u001b[0;31m     \u001b[0moutputs\u001b[0m \u001b[0;34m=\u001b[0m \u001b[0mmodel\u001b[0m\u001b[0;34m(\u001b[0m\u001b[0mimages\u001b[0m\u001b[0;34m)\u001b[0m\u001b[0;34m\u001b[0m\u001b[0;34m\u001b[0m\u001b[0m\n\u001b[0m\u001b[1;32m      5\u001b[0m     \u001b[0mprint\u001b[0m\u001b[0;34m(\u001b[0m\u001b[0moutputs\u001b[0m\u001b[0;34m)\u001b[0m\u001b[0;34m\u001b[0m\u001b[0;34m\u001b[0m\u001b[0m\n\u001b[1;32m      6\u001b[0m     \u001b[0;32mbreak\u001b[0m\u001b[0;34m\u001b[0m\u001b[0;34m\u001b[0m\u001b[0m\n",
            "\u001b[0;32m/usr/local/lib/python3.7/dist-packages/torch/nn/modules/module.py\u001b[0m in \u001b[0;36m_call_impl\u001b[0;34m(self, *input, **kwargs)\u001b[0m\n\u001b[1;32m   1128\u001b[0m         if not (self._backward_hooks or self._forward_hooks or self._forward_pre_hooks or _global_backward_hooks\n\u001b[1;32m   1129\u001b[0m                 or _global_forward_hooks or _global_forward_pre_hooks):\n\u001b[0;32m-> 1130\u001b[0;31m             \u001b[0;32mreturn\u001b[0m \u001b[0mforward_call\u001b[0m\u001b[0;34m(\u001b[0m\u001b[0;34m*\u001b[0m\u001b[0minput\u001b[0m\u001b[0;34m,\u001b[0m \u001b[0;34m**\u001b[0m\u001b[0mkwargs\u001b[0m\u001b[0;34m)\u001b[0m\u001b[0;34m\u001b[0m\u001b[0;34m\u001b[0m\u001b[0m\n\u001b[0m\u001b[1;32m   1131\u001b[0m         \u001b[0;31m# Do not call functions when jit is used\u001b[0m\u001b[0;34m\u001b[0m\u001b[0;34m\u001b[0m\u001b[0;34m\u001b[0m\u001b[0m\n\u001b[1;32m   1132\u001b[0m         \u001b[0mfull_backward_hooks\u001b[0m\u001b[0;34m,\u001b[0m \u001b[0mnon_full_backward_hooks\u001b[0m \u001b[0;34m=\u001b[0m \u001b[0;34m[\u001b[0m\u001b[0;34m]\u001b[0m\u001b[0;34m,\u001b[0m \u001b[0;34m[\u001b[0m\u001b[0;34m]\u001b[0m\u001b[0;34m\u001b[0m\u001b[0;34m\u001b[0m\u001b[0m\n",
            "\u001b[0;32m/usr/local/lib/python3.7/dist-packages/torch/nn/modules/linear.py\u001b[0m in \u001b[0;36mforward\u001b[0;34m(self, input)\u001b[0m\n\u001b[1;32m    112\u001b[0m \u001b[0;34m\u001b[0m\u001b[0m\n\u001b[1;32m    113\u001b[0m     \u001b[0;32mdef\u001b[0m \u001b[0mforward\u001b[0m\u001b[0;34m(\u001b[0m\u001b[0mself\u001b[0m\u001b[0;34m,\u001b[0m \u001b[0minput\u001b[0m\u001b[0;34m:\u001b[0m \u001b[0mTensor\u001b[0m\u001b[0;34m)\u001b[0m \u001b[0;34m->\u001b[0m \u001b[0mTensor\u001b[0m\u001b[0;34m:\u001b[0m\u001b[0;34m\u001b[0m\u001b[0;34m\u001b[0m\u001b[0m\n\u001b[0;32m--> 114\u001b[0;31m         \u001b[0;32mreturn\u001b[0m \u001b[0mF\u001b[0m\u001b[0;34m.\u001b[0m\u001b[0mlinear\u001b[0m\u001b[0;34m(\u001b[0m\u001b[0minput\u001b[0m\u001b[0;34m,\u001b[0m \u001b[0mself\u001b[0m\u001b[0;34m.\u001b[0m\u001b[0mweight\u001b[0m\u001b[0;34m,\u001b[0m \u001b[0mself\u001b[0m\u001b[0;34m.\u001b[0m\u001b[0mbias\u001b[0m\u001b[0;34m)\u001b[0m\u001b[0;34m\u001b[0m\u001b[0;34m\u001b[0m\u001b[0m\n\u001b[0m\u001b[1;32m    115\u001b[0m \u001b[0;34m\u001b[0m\u001b[0m\n\u001b[1;32m    116\u001b[0m     \u001b[0;32mdef\u001b[0m \u001b[0mextra_repr\u001b[0m\u001b[0;34m(\u001b[0m\u001b[0mself\u001b[0m\u001b[0;34m)\u001b[0m \u001b[0;34m->\u001b[0m \u001b[0mstr\u001b[0m\u001b[0;34m:\u001b[0m\u001b[0;34m\u001b[0m\u001b[0;34m\u001b[0m\u001b[0m\n",
            "\u001b[0;31mRuntimeError\u001b[0m: mat1 and mat2 shapes cannot be multiplied (2800x28 and 784x10)"
          ]
        }
      ]
    },
    {
      "cell_type": "code",
      "source": [
        "# images.shape"
      ],
      "metadata": {
        "id": "_bwfTugTGnQ2"
      },
      "execution_count": null,
      "outputs": []
    },
    {
      "cell_type": "code",
      "source": [
        "# images.reshape(128, 784).shape"
      ],
      "metadata": {
        "id": "_BM64_5pHDxN"
      },
      "execution_count": null,
      "outputs": []
    },
    {
      "cell_type": "code",
      "source": [
        "class MnistModel(nn.Module):\n",
        "    def __init__(self):\n",
        "        super().__init__()\n",
        "        self.linear = nn.Linear(input_size, num_classes)\n",
        "        \n",
        "    def forward(self, xb):\n",
        "        xb = xb.reshape(-1, 784)\n",
        "        out = self.linear(xb)\n",
        "        return out\n",
        "    \n",
        "model = MnistModel()"
      ],
      "metadata": {
        "id": "bOwVrmiHHH1N"
      },
      "execution_count": null,
      "outputs": []
    },
    {
      "cell_type": "code",
      "source": [
        "model.linear"
      ],
      "metadata": {
        "colab": {
          "base_uri": "https://localhost:8080/"
        },
        "id": "tyPhxrm9JfGB",
        "outputId": "05a3b69f-8b7f-4a21-ca3b-c0b886a07c02"
      },
      "execution_count": null,
      "outputs": [
        {
          "output_type": "execute_result",
          "data": {
            "text/plain": [
              "Linear(in_features=784, out_features=10, bias=True)"
            ]
          },
          "metadata": {},
          "execution_count": 25
        }
      ]
    },
    {
      "cell_type": "code",
      "source": [
        "print(model.linear.weight.shape, model.linear.bias.shape)\n",
        "list(model.parameters())"
      ],
      "metadata": {
        "colab": {
          "base_uri": "https://localhost:8080/"
        },
        "id": "-JBiBvSTJo15",
        "outputId": "71a319a0-5e05-4b0c-f0f6-94db21faad02"
      },
      "execution_count": null,
      "outputs": [
        {
          "output_type": "stream",
          "name": "stdout",
          "text": [
            "torch.Size([10, 784]) torch.Size([10])\n"
          ]
        },
        {
          "output_type": "execute_result",
          "data": {
            "text/plain": [
              "[Parameter containing:\n",
              " tensor([[-0.0225,  0.0120,  0.0123,  ..., -0.0041, -0.0193, -0.0259],\n",
              "         [ 0.0021, -0.0033,  0.0245,  ...,  0.0107,  0.0059, -0.0238],\n",
              "         [ 0.0182, -0.0120,  0.0094,  ...,  0.0222,  0.0263, -0.0086],\n",
              "         ...,\n",
              "         [-0.0133, -0.0155, -0.0037,  ...,  0.0263,  0.0098,  0.0262],\n",
              "         [-0.0270, -0.0333,  0.0285,  ...,  0.0113,  0.0070,  0.0039],\n",
              "         [ 0.0070,  0.0167, -0.0344,  ...,  0.0246,  0.0123, -0.0148]],\n",
              "        requires_grad=True), Parameter containing:\n",
              " tensor([-0.0019, -0.0297,  0.0292,  0.0010, -0.0206,  0.0278, -0.0217,  0.0152,\n",
              "          0.0160, -0.0140], requires_grad=True)]"
            ]
          },
          "metadata": {},
          "execution_count": 26
        }
      ]
    },
    {
      "cell_type": "code",
      "source": [
        "for images, labels in train_loader:\n",
        "    print(images.shape)\n",
        "    outputs = model(images)\n",
        "    break\n",
        "\n",
        "print('outputs.shape : ', outputs.shape)\n",
        "print('Sample outputs :\\n', outputs[:2].data)"
      ],
      "metadata": {
        "colab": {
          "base_uri": "https://localhost:8080/"
        },
        "id": "kGdg0fPjJs-h",
        "outputId": "de721407-23ad-4f54-ab1c-6f19f85d9526"
      },
      "execution_count": null,
      "outputs": [
        {
          "output_type": "stream",
          "name": "stdout",
          "text": [
            "torch.Size([100, 1, 28, 28])\n",
            "outputs.shape :  torch.Size([100, 10])\n",
            "Sample outputs :\n",
            " tensor([[ 0.3104, -0.0110,  0.1769,  0.4485,  0.0436,  0.2511, -0.2575, -0.0228,\n",
            "         -0.0148,  0.5795],\n",
            "        [-0.0734,  0.1719, -0.0304,  0.1021,  0.0254,  0.0672, -0.1136, -0.3335,\n",
            "         -0.1226,  0.2640]])\n"
          ]
        }
      ]
    },
    {
      "cell_type": "code",
      "source": [
        "import torch.nn.functional as F"
      ],
      "metadata": {
        "id": "MViJGoS9KBnw"
      },
      "execution_count": null,
      "outputs": []
    },
    {
      "cell_type": "code",
      "source": [
        "outputs[:2]"
      ],
      "metadata": {
        "colab": {
          "base_uri": "https://localhost:8080/"
        },
        "id": "SW-Yu_oAM_1M",
        "outputId": "8ad19887-19d6-421c-d4d8-88e82a56878b"
      },
      "execution_count": null,
      "outputs": [
        {
          "output_type": "execute_result",
          "data": {
            "text/plain": [
              "tensor([[ 0.3104, -0.0110,  0.1769,  0.4485,  0.0436,  0.2511, -0.2575, -0.0228,\n",
              "         -0.0148,  0.5795],\n",
              "        [-0.0734,  0.1719, -0.0304,  0.1021,  0.0254,  0.0672, -0.1136, -0.3335,\n",
              "         -0.1226,  0.2640]], grad_fn=<SliceBackward0>)"
            ]
          },
          "metadata": {},
          "execution_count": 29
        }
      ]
    },
    {
      "cell_type": "code",
      "source": [
        "# Apply softmax for each output row\n",
        "probs = F.softmax(outputs, dim=1)\n",
        "\n",
        "# Look at sample probabilities\n",
        "print(\"Sample probabilities:\\n\", probs[:2].data)\n",
        "\n",
        "# Add up the probabilities of an output row\n",
        "print(\"Sum: \", torch.sum(probs[0]).item())"
      ],
      "metadata": {
        "colab": {
          "base_uri": "https://localhost:8080/"
        },
        "id": "LEO2wkAmhihT",
        "outputId": "b74c63aa-76e7-4713-dd84-a89f648708fa"
      },
      "execution_count": null,
      "outputs": [
        {
          "output_type": "stream",
          "name": "stdout",
          "text": [
            "Sample probabilities:\n",
            " tensor([[0.1140, 0.0827, 0.0998, 0.1309, 0.0873, 0.1075, 0.0646, 0.0817, 0.0824,\n",
            "         0.1492],\n",
            "        [0.0921, 0.1177, 0.0962, 0.1098, 0.1017, 0.1060, 0.0885, 0.0710, 0.0877,\n",
            "         0.1291]])\n",
            "Sum:  1.0\n"
          ]
        }
      ]
    },
    {
      "cell_type": "code",
      "source": [
        "max_probs, preds = torch.max(probs, dim=1)\n",
        "print(preds)\n",
        "print(max_probs)"
      ],
      "metadata": {
        "colab": {
          "base_uri": "https://localhost:8080/"
        },
        "id": "j8VtD7-Bh7oR",
        "outputId": "c0e296c6-7ba1-4c9f-fb34-048a9ef636b1"
      },
      "execution_count": null,
      "outputs": [
        {
          "output_type": "stream",
          "name": "stdout",
          "text": [
            "tensor([9, 9, 3, 9, 2, 3, 6, 8, 0, 1, 1, 2, 2, 2, 9, 9, 0, 0, 0, 9, 8, 9, 9, 8,\n",
            "        9, 9, 9, 9, 9, 3, 9, 9, 9, 9, 9, 9, 9, 1, 1, 9, 9, 9, 9, 0, 9, 7, 9, 9,\n",
            "        9, 9, 3, 9, 9, 9, 9, 2, 9, 9, 3, 9, 9, 9, 2, 3, 9, 9, 9, 1, 9, 9, 8, 1,\n",
            "        9, 9, 3, 3, 9, 2, 2, 9, 9, 9, 9, 9, 3, 9, 9, 9, 9, 9, 9, 9, 2, 8, 0, 3,\n",
            "        9, 9, 9, 9])\n",
            "tensor([0.1492, 0.1291, 0.1450, 0.1378, 0.1380, 0.1603, 0.1291, 0.1267, 0.1351,\n",
            "        0.1216, 0.1262, 0.1225, 0.1457, 0.1714, 0.1475, 0.1350, 0.1346, 0.1138,\n",
            "        0.1350, 0.1237, 0.1800, 0.1371, 0.1338, 0.1306, 0.1280, 0.1309, 0.1315,\n",
            "        0.1273, 0.1352, 0.1403, 0.1585, 0.1341, 0.1479, 0.1516, 0.1417, 0.1156,\n",
            "        0.1441, 0.1194, 0.1230, 0.1584, 0.1559, 0.1317, 0.1582, 0.1415, 0.1584,\n",
            "        0.1146, 0.1618, 0.1436, 0.1224, 0.1500, 0.1371, 0.1401, 0.1380, 0.1268,\n",
            "        0.1302, 0.1499, 0.1631, 0.1578, 0.1255, 0.1389, 0.1481, 0.1279, 0.1202,\n",
            "        0.1182, 0.1284, 0.1195, 0.1348, 0.1587, 0.1592, 0.1449, 0.1359, 0.1162,\n",
            "        0.1364, 0.1255, 0.1540, 0.1245, 0.1404, 0.1360, 0.1289, 0.1341, 0.1662,\n",
            "        0.1439, 0.1116, 0.1361, 0.1138, 0.1580, 0.1381, 0.1473, 0.1619, 0.1189,\n",
            "        0.1378, 0.1413, 0.1342, 0.1445, 0.1443, 0.1440, 0.1213, 0.1789, 0.1749,\n",
            "        0.1196], grad_fn=<MaxBackward0>)\n"
          ]
        }
      ]
    },
    {
      "cell_type": "code",
      "source": [
        "labels"
      ],
      "metadata": {
        "colab": {
          "base_uri": "https://localhost:8080/"
        },
        "id": "HjNRYzXoiqJQ",
        "outputId": "f9fa39d1-0a1d-46b3-a4bd-9072dfeb177a"
      },
      "execution_count": null,
      "outputs": [
        {
          "output_type": "execute_result",
          "data": {
            "text/plain": [
              "tensor([8, 8, 3, 2, 0, 3, 7, 6, 0, 6, 6, 6, 4, 9, 0, 9, 0, 3, 8, 0, 6, 0, 7, 6,\n",
              "        2, 8, 0, 8, 5, 2, 0, 9, 8, 2, 8, 1, 9, 6, 6, 4, 2, 0, 9, 0, 0, 7, 8, 1,\n",
              "        7, 8, 8, 6, 0, 5, 5, 0, 9, 0, 0, 1, 1, 4, 7, 3, 1, 5, 4, 2, 9, 0, 2, 2,\n",
              "        1, 8, 3, 3, 1, 7, 6, 8, 8, 8, 1, 1, 2, 0, 9, 2, 0, 7, 1, 3, 9, 0, 0, 3,\n",
              "        3, 3, 8, 1])"
            ]
          },
          "metadata": {},
          "execution_count": 40
        }
      ]
    },
    {
      "cell_type": "code",
      "source": [
        "(labels == preds)\n",
        "# TRURE WHEN PREDICTION MATCHES, FALSE OTHERWISE"
      ],
      "metadata": {
        "colab": {
          "base_uri": "https://localhost:8080/"
        },
        "id": "y0th8GZ6jSBR",
        "outputId": "2fbeca4a-ab40-488f-fe3e-0f5de214935d"
      },
      "execution_count": null,
      "outputs": [
        {
          "output_type": "execute_result",
          "data": {
            "text/plain": [
              "tensor([False, False,  True, False, False,  True, False, False,  True, False,\n",
              "        False, False, False, False, False,  True,  True, False, False, False,\n",
              "        False, False, False, False, False, False, False, False, False, False,\n",
              "        False,  True, False, False, False, False,  True, False, False, False,\n",
              "        False, False,  True,  True, False,  True, False, False, False, False,\n",
              "        False, False, False, False, False, False,  True, False, False, False,\n",
              "        False, False, False,  True, False, False, False, False,  True, False,\n",
              "        False, False, False, False,  True,  True, False, False, False, False,\n",
              "        False, False, False, False, False, False,  True, False, False, False,\n",
              "        False, False, False, False,  True,  True, False, False, False, False])"
            ]
          },
          "metadata": {},
          "execution_count": 41
        }
      ]
    },
    {
      "cell_type": "code",
      "source": [
        "outputs[:2]"
      ],
      "metadata": {
        "colab": {
          "base_uri": "https://localhost:8080/"
        },
        "id": "KjSZ39kxiuFA",
        "outputId": "bd5c417f-fde1-4ad9-8e15-7ce750adff92"
      },
      "execution_count": null,
      "outputs": [
        {
          "output_type": "execute_result",
          "data": {
            "text/plain": [
              "tensor([[ 0.3104, -0.0110,  0.1769,  0.4485,  0.0436,  0.2511, -0.2575, -0.0228,\n",
              "         -0.0148,  0.5795],\n",
              "        [-0.0734,  0.1719, -0.0304,  0.1021,  0.0254,  0.0672, -0.1136, -0.3335,\n",
              "         -0.1226,  0.2640]], grad_fn=<SliceBackward0>)"
            ]
          },
          "metadata": {},
          "execution_count": 34
        }
      ]
    },
    {
      "cell_type": "code",
      "source": [
        "torch.sum(preds == labels)"
      ],
      "metadata": {
        "colab": {
          "base_uri": "https://localhost:8080/"
        },
        "id": "TqgRhe8ZjEBY",
        "outputId": "3cda0c26-1b23-4a83-e377-9526289a2261"
      },
      "execution_count": null,
      "outputs": [
        {
          "output_type": "execute_result",
          "data": {
            "text/plain": [
              "tensor(18)"
            ]
          },
          "metadata": {},
          "execution_count": 35
        }
      ]
    },
    {
      "cell_type": "code",
      "source": [
        "def accuracy(outputs, labels):\n",
        "    _, preds = torch.max(outputs, dim=1)\n",
        "    return torch.tensor(torch.sum(preds == labels).item() / len(preds))"
      ],
      "metadata": {
        "id": "MKfSS0UVkJE_"
      },
      "execution_count": null,
      "outputs": []
    },
    {
      "cell_type": "code",
      "source": [
        "accuracy(outputs, labels)"
      ],
      "metadata": {
        "colab": {
          "base_uri": "https://localhost:8080/"
        },
        "id": "gZMhsqn4kc43",
        "outputId": "c65e2a71-f4d4-4207-af2c-929b182c0986"
      },
      "execution_count": null,
      "outputs": [
        {
          "output_type": "execute_result",
          "data": {
            "text/plain": [
              "tensor(0.1800)"
            ]
          },
          "metadata": {},
          "execution_count": 37
        }
      ]
    },
    {
      "cell_type": "code",
      "source": [
        "probs"
      ],
      "metadata": {
        "colab": {
          "base_uri": "https://localhost:8080/"
        },
        "id": "EGV068qMWi6y",
        "outputId": "07b8a401-4548-4da7-a736-919d0f2de859"
      },
      "execution_count": null,
      "outputs": [
        {
          "output_type": "execute_result",
          "data": {
            "text/plain": [
              "tensor([[0.1140, 0.0827, 0.0998, 0.1309, 0.0873, 0.1075, 0.0646, 0.0817, 0.0824,\n",
              "         0.1492],\n",
              "        [0.0921, 0.1177, 0.0962, 0.1098, 0.1017, 0.1060, 0.0885, 0.0710, 0.0877,\n",
              "         0.1291],\n",
              "        [0.1058, 0.0943, 0.0941, 0.1450, 0.1062, 0.0930, 0.0630, 0.0918, 0.0990,\n",
              "         0.1077],\n",
              "        [0.1061, 0.0707, 0.1077, 0.0805, 0.0944, 0.1018, 0.1269, 0.0730, 0.1011,\n",
              "         0.1378],\n",
              "        [0.1119, 0.0566, 0.1380, 0.0988, 0.0670, 0.0993, 0.1044, 0.0915, 0.0957,\n",
              "         0.1368],\n",
              "        [0.1109, 0.1166, 0.0865, 0.1603, 0.0859, 0.0744, 0.0596, 0.0908, 0.1030,\n",
              "         0.1119],\n",
              "        [0.0902, 0.0867, 0.1110, 0.0793, 0.0887, 0.0940, 0.1291, 0.1115, 0.0960,\n",
              "         0.1134],\n",
              "        [0.1228, 0.1042, 0.1146, 0.1044, 0.0595, 0.0956, 0.0868, 0.0743, 0.1267,\n",
              "         0.1111],\n",
              "        [0.1351, 0.0749, 0.1068, 0.1132, 0.0803, 0.1049, 0.0851, 0.0882, 0.0782,\n",
              "         0.1333],\n",
              "        [0.1133, 0.1216, 0.1183, 0.1077, 0.0754, 0.0897, 0.0819, 0.0741, 0.1074,\n",
              "         0.1107],\n",
              "        [0.1085, 0.1262, 0.1230, 0.1102, 0.0846, 0.0978, 0.0627, 0.0815, 0.0981,\n",
              "         0.1074],\n",
              "        [0.0947, 0.1202, 0.1225, 0.1141, 0.0844, 0.1149, 0.0815, 0.0787, 0.0822,\n",
              "         0.1069],\n",
              "        [0.1211, 0.0741, 0.1457, 0.0646, 0.0863, 0.1225, 0.1012, 0.0805, 0.0897,\n",
              "         0.1143],\n",
              "        [0.0826, 0.0568, 0.1714, 0.0906, 0.0773, 0.0979, 0.0906, 0.0982, 0.0852,\n",
              "         0.1493],\n",
              "        [0.1237, 0.0587, 0.1179, 0.1250, 0.0754, 0.1031, 0.0827, 0.0825, 0.0835,\n",
              "         0.1475],\n",
              "        [0.0965, 0.0684, 0.1139, 0.0952, 0.0803, 0.0977, 0.1130, 0.0907, 0.1093,\n",
              "         0.1350],\n",
              "        [0.1346, 0.0828, 0.1013, 0.0972, 0.0859, 0.0914, 0.1099, 0.0890, 0.0879,\n",
              "         0.1200],\n",
              "        [0.1138, 0.0840, 0.1002, 0.1018, 0.1002, 0.1002, 0.1078, 0.0892, 0.0930,\n",
              "         0.1099],\n",
              "        [0.1350, 0.0931, 0.0898, 0.1057, 0.0751, 0.1102, 0.0818, 0.0944, 0.0933,\n",
              "         0.1216],\n",
              "        [0.1218, 0.0667, 0.1105, 0.1098, 0.0918, 0.0938, 0.0865, 0.0927, 0.1025,\n",
              "         0.1237],\n",
              "        [0.0989, 0.1008, 0.1291, 0.1061, 0.0500, 0.0706, 0.0874, 0.0915, 0.1800,\n",
              "         0.0854],\n",
              "        [0.0920, 0.0657, 0.1004, 0.0840, 0.0853, 0.1103, 0.1066, 0.0953, 0.1234,\n",
              "         0.1371],\n",
              "        [0.1278, 0.0818, 0.1302, 0.0800, 0.0944, 0.1157, 0.0852, 0.0786, 0.0724,\n",
              "         0.1338],\n",
              "        [0.1085, 0.0803, 0.1251, 0.1081, 0.0678, 0.0887, 0.0855, 0.0972, 0.1306,\n",
              "         0.1083],\n",
              "        [0.0903, 0.1192, 0.0886, 0.1201, 0.0986, 0.0883, 0.0781, 0.0816, 0.1072,\n",
              "         0.1280],\n",
              "        [0.0911, 0.0976, 0.1169, 0.1100, 0.0871, 0.1164, 0.0913, 0.0632, 0.0954,\n",
              "         0.1309],\n",
              "        [0.0883, 0.0921, 0.1110, 0.0975, 0.0856, 0.0972, 0.0936, 0.0901, 0.1129,\n",
              "         0.1315],\n",
              "        [0.0874, 0.0995, 0.1130, 0.1049, 0.0799, 0.1171, 0.0733, 0.0751, 0.1225,\n",
              "         0.1273],\n",
              "        [0.1298, 0.0878, 0.0986, 0.0911, 0.0792, 0.1160, 0.0951, 0.0822, 0.0850,\n",
              "         0.1352],\n",
              "        [0.0917, 0.0854, 0.1123, 0.1403, 0.0858, 0.0889, 0.0572, 0.0859, 0.1204,\n",
              "         0.1321],\n",
              "        [0.1085, 0.0743, 0.1118, 0.1040, 0.0778, 0.0993, 0.0763, 0.0902, 0.0992,\n",
              "         0.1585],\n",
              "        [0.1306, 0.0881, 0.1191, 0.0818, 0.0679, 0.1068, 0.1021, 0.0756, 0.0937,\n",
              "         0.1341],\n",
              "        [0.1135, 0.0943, 0.1060, 0.1060, 0.0979, 0.1079, 0.1020, 0.0671, 0.0573,\n",
              "         0.1479],\n",
              "        [0.1039, 0.0962, 0.0976, 0.0992, 0.1114, 0.0957, 0.0825, 0.0689, 0.0930,\n",
              "         0.1516],\n",
              "        [0.0920, 0.0824, 0.1308, 0.1100, 0.0911, 0.1204, 0.0818, 0.0813, 0.0684,\n",
              "         0.1417],\n",
              "        [0.1026, 0.0917, 0.1021, 0.1135, 0.0973, 0.1154, 0.0849, 0.0831, 0.0939,\n",
              "         0.1156],\n",
              "        [0.0944, 0.0818, 0.1284, 0.1010, 0.0910, 0.1110, 0.0922, 0.0800, 0.0761,\n",
              "         0.1441],\n",
              "        [0.1038, 0.1194, 0.1185, 0.0994, 0.0937, 0.0928, 0.0794, 0.0833, 0.0974,\n",
              "         0.1121],\n",
              "        [0.0979, 0.1230, 0.1036, 0.1109, 0.0853, 0.0859, 0.0886, 0.0739, 0.1163,\n",
              "         0.1148],\n",
              "        [0.1108, 0.0727, 0.1237, 0.0898, 0.0833, 0.1135, 0.1007, 0.0740, 0.0732,\n",
              "         0.1584],\n",
              "        [0.0805, 0.0960, 0.0819, 0.1234, 0.1020, 0.1044, 0.0822, 0.0660, 0.1077,\n",
              "         0.1559],\n",
              "        [0.1060, 0.0673, 0.1031, 0.1168, 0.0697, 0.1036, 0.0827, 0.0986, 0.1205,\n",
              "         0.1317],\n",
              "        [0.0946, 0.0804, 0.1281, 0.1076, 0.0706, 0.0999, 0.1000, 0.0803, 0.0804,\n",
              "         0.1582],\n",
              "        [0.1415, 0.0549, 0.1140, 0.1077, 0.0647, 0.1075, 0.0809, 0.0997, 0.1007,\n",
              "         0.1284],\n",
              "        [0.1053, 0.0803, 0.1258, 0.0922, 0.0757, 0.1095, 0.0743, 0.0924, 0.0861,\n",
              "         0.1584],\n",
              "        [0.1138, 0.0712, 0.1140, 0.1026, 0.0820, 0.1068, 0.1044, 0.1146, 0.0881,\n",
              "         0.1026],\n",
              "        [0.0971, 0.0819, 0.1066, 0.0982, 0.0849, 0.1239, 0.0840, 0.0696, 0.0920,\n",
              "         0.1618],\n",
              "        [0.0852, 0.0872, 0.0883, 0.1344, 0.0997, 0.1238, 0.0829, 0.0665, 0.0883,\n",
              "         0.1436],\n",
              "        [0.1191, 0.0792, 0.1201, 0.0869, 0.0909, 0.0998, 0.1097, 0.0904, 0.0815,\n",
              "         0.1224],\n",
              "        [0.0852, 0.0969, 0.1272, 0.1154, 0.0971, 0.1211, 0.0702, 0.0646, 0.0724,\n",
              "         0.1500],\n",
              "        [0.1024, 0.1149, 0.1030, 0.1371, 0.0818, 0.0890, 0.0593, 0.0853, 0.1045,\n",
              "         0.1227],\n",
              "        [0.0966, 0.0790, 0.1095, 0.1030, 0.0879, 0.0988, 0.0904, 0.1027, 0.0920,\n",
              "         0.1401],\n",
              "        [0.1086, 0.0738, 0.1140, 0.0983, 0.0679, 0.0977, 0.1080, 0.0961, 0.0975,\n",
              "         0.1380],\n",
              "        [0.1156, 0.0903, 0.1023, 0.1224, 0.0930, 0.0951, 0.0726, 0.0917, 0.0901,\n",
              "         0.1268],\n",
              "        [0.1017, 0.0672, 0.1259, 0.0966, 0.0985, 0.1152, 0.0940, 0.0963, 0.0743,\n",
              "         0.1302],\n",
              "        [0.1020, 0.0605, 0.1499, 0.1045, 0.0657, 0.0903, 0.0960, 0.0871, 0.1269,\n",
              "         0.1170],\n",
              "        [0.1276, 0.0804, 0.1041, 0.0870, 0.0962, 0.0998, 0.1054, 0.0683, 0.0680,\n",
              "         0.1631],\n",
              "        [0.0993, 0.0641, 0.0997, 0.1093, 0.0761, 0.0952, 0.0724, 0.1155, 0.1106,\n",
              "         0.1578],\n",
              "        [0.0996, 0.0799, 0.0967, 0.1255, 0.0706, 0.1158, 0.1098, 0.1034, 0.0776,\n",
              "         0.1211],\n",
              "        [0.0977, 0.0938, 0.1051, 0.0964, 0.0810, 0.0974, 0.0886, 0.1047, 0.0964,\n",
              "         0.1389],\n",
              "        [0.1068, 0.1062, 0.1043, 0.0998, 0.0997, 0.0979, 0.0912, 0.0661, 0.0799,\n",
              "         0.1481],\n",
              "        [0.1095, 0.0941, 0.1046, 0.0924, 0.0866, 0.1182, 0.1034, 0.0696, 0.0937,\n",
              "         0.1279],\n",
              "        [0.1189, 0.0611, 0.1202, 0.0958, 0.0922, 0.1156, 0.1020, 0.1003, 0.0790,\n",
              "         0.1150],\n",
              "        [0.1013, 0.0888, 0.1176, 0.1182, 0.0893, 0.1036, 0.0824, 0.0944, 0.0980,\n",
              "         0.1063],\n",
              "        [0.1017, 0.1077, 0.1022, 0.1058, 0.1096, 0.1098, 0.0874, 0.0606, 0.0868,\n",
              "         0.1284],\n",
              "        [0.1090, 0.0812, 0.1039, 0.1167, 0.1015, 0.1138, 0.0864, 0.0910, 0.0769,\n",
              "         0.1195],\n",
              "        [0.0980, 0.0868, 0.1344, 0.1006, 0.0984, 0.0931, 0.0801, 0.0812, 0.0926,\n",
              "         0.1348],\n",
              "        [0.0966, 0.1587, 0.0892, 0.1146, 0.0786, 0.0860, 0.0648, 0.0682, 0.1103,\n",
              "         0.1329],\n",
              "        [0.1255, 0.0844, 0.0958, 0.1035, 0.1041, 0.1003, 0.0941, 0.0631, 0.0700,\n",
              "         0.1592],\n",
              "        [0.1185, 0.0732, 0.1119, 0.1103, 0.0652, 0.1012, 0.0758, 0.0859, 0.1132,\n",
              "         0.1449],\n",
              "        [0.0898, 0.0639, 0.1153, 0.1068, 0.0871, 0.1050, 0.0983, 0.0956, 0.1359,\n",
              "         0.1023],\n",
              "        [0.0975, 0.1162, 0.0951, 0.1087, 0.0820, 0.1045, 0.0809, 0.0947, 0.1111,\n",
              "         0.1094],\n",
              "        [0.1023, 0.0897, 0.1083, 0.0932, 0.0898, 0.0945, 0.0936, 0.0989, 0.0933,\n",
              "         0.1364],\n",
              "        [0.0943, 0.0928, 0.1161, 0.1118, 0.1041, 0.0998, 0.0704, 0.0937, 0.0913,\n",
              "         0.1255],\n",
              "        [0.1186, 0.0853, 0.0966, 0.1540, 0.1016, 0.0907, 0.0734, 0.0756, 0.0826,\n",
              "         0.1216],\n",
              "        [0.0826, 0.0987, 0.1083, 0.1245, 0.0896, 0.0949, 0.1178, 0.0932, 0.0788,\n",
              "         0.1114],\n",
              "        [0.1010, 0.0959, 0.1066, 0.0925, 0.0971, 0.0997, 0.0982, 0.0806, 0.0879,\n",
              "         0.1404],\n",
              "        [0.0914, 0.0687, 0.1360, 0.0845, 0.0863, 0.1093, 0.1079, 0.1258, 0.0989,\n",
              "         0.0914],\n",
              "        [0.0974, 0.1242, 0.1289, 0.1056, 0.0934, 0.0789, 0.0838, 0.0772, 0.0932,\n",
              "         0.1174],\n",
              "        [0.0721, 0.1014, 0.1042, 0.1227, 0.0914, 0.1134, 0.0761, 0.0846, 0.1000,\n",
              "         0.1341],\n",
              "        [0.0829, 0.0943, 0.0893, 0.1052, 0.1107, 0.1090, 0.0874, 0.0723, 0.0828,\n",
              "         0.1662],\n",
              "        [0.1059, 0.0899, 0.1034, 0.0771, 0.1045, 0.1280, 0.0887, 0.0783, 0.0804,\n",
              "         0.1439],\n",
              "        [0.1073, 0.0999, 0.1103, 0.1050, 0.1017, 0.0981, 0.0984, 0.0720, 0.0958,\n",
              "         0.1116],\n",
              "        [0.0926, 0.1156, 0.0888, 0.1157, 0.0945, 0.1264, 0.0898, 0.0556, 0.0848,\n",
              "         0.1361],\n",
              "        [0.1061, 0.1050, 0.1009, 0.1138, 0.1034, 0.1091, 0.0708, 0.0743, 0.1056,\n",
              "         0.1110],\n",
              "        [0.1254, 0.0776, 0.0992, 0.1114, 0.0667, 0.0997, 0.0976, 0.0905, 0.0739,\n",
              "         0.1580],\n",
              "        [0.1135, 0.0840, 0.1116, 0.0890, 0.0745, 0.1050, 0.1294, 0.0634, 0.0915,\n",
              "         0.1381],\n",
              "        [0.0964, 0.0896, 0.1008, 0.1130, 0.0670, 0.0951, 0.0860, 0.0878, 0.1170,\n",
              "         0.1473],\n",
              "        [0.1082, 0.0604, 0.1048, 0.1126, 0.0624, 0.0855, 0.0717, 0.0965, 0.1361,\n",
              "         0.1619],\n",
              "        [0.1089, 0.1018, 0.1108, 0.0851, 0.0919, 0.1041, 0.1024, 0.0863, 0.0898,\n",
              "         0.1189],\n",
              "        [0.0954, 0.0871, 0.1318, 0.0961, 0.0920, 0.1076, 0.0887, 0.0870, 0.0765,\n",
              "         0.1378],\n",
              "        [0.0779, 0.0768, 0.1181, 0.1107, 0.1095, 0.0929, 0.0696, 0.0880, 0.1154,\n",
              "         0.1413],\n",
              "        [0.1117, 0.0574, 0.1342, 0.1129, 0.0849, 0.0816, 0.1066, 0.0876, 0.0978,\n",
              "         0.1254],\n",
              "        [0.0997, 0.0762, 0.0897, 0.1120, 0.0725, 0.0890, 0.0886, 0.0973, 0.1445,\n",
              "         0.1304],\n",
              "        [0.1443, 0.0598, 0.1142, 0.1113, 0.0929, 0.0972, 0.0845, 0.1054, 0.0656,\n",
              "         0.1248],\n",
              "        [0.1002, 0.0822, 0.0787, 0.1440, 0.0945, 0.0944, 0.0710, 0.0910, 0.1162,\n",
              "         0.1278],\n",
              "        [0.0932, 0.0908, 0.1159, 0.0907, 0.1021, 0.1177, 0.1052, 0.0760, 0.0870,\n",
              "         0.1213],\n",
              "        [0.1082, 0.0749, 0.1187, 0.1197, 0.0843, 0.0903, 0.0651, 0.0729, 0.0873,\n",
              "         0.1789],\n",
              "        [0.0785, 0.0902, 0.1109, 0.1193, 0.0988, 0.1114, 0.0710, 0.0735, 0.0714,\n",
              "         0.1749],\n",
              "        [0.1060, 0.1053, 0.1078, 0.1032, 0.1076, 0.0983, 0.0915, 0.0674, 0.0932,\n",
              "         0.1196]], grad_fn=<SoftmaxBackward0>)"
            ]
          },
          "metadata": {},
          "execution_count": 38
        }
      ]
    },
    {
      "cell_type": "code",
      "source": [
        "x = 0.0001\n",
        "\n",
        "[0.1140, 0.0827, x, 0.1309, 0.0873, 0.1075, 0.0646, 0.0817, 0.0824, 0.1492]    # \n",
        "[0, 0, 0, 0, 0, 0, 0, 0, 0, 0]\n",
        "\n",
        "import math \n",
        "\n",
        "-math.log(x) "
      ],
      "metadata": {
        "colab": {
          "base_uri": "https://localhost:8080/"
        },
        "id": "JCPuGEh5eQac",
        "outputId": "3fdef25e-5401-4092-d6b0-925f9f1e896f"
      },
      "execution_count": null,
      "outputs": [
        {
          "output_type": "execute_result",
          "data": {
            "text/plain": [
              "9.210340371976182"
            ]
          },
          "metadata": {},
          "execution_count": 45
        }
      ]
    },
    {
      "cell_type": "code",
      "source": [
        "outputs"
      ],
      "metadata": {
        "colab": {
          "base_uri": "https://localhost:8080/"
        },
        "id": "ZKiNJGQrmg9Q",
        "outputId": "09d563e6-63ee-49e3-efdb-387ccd7f32fd"
      },
      "execution_count": null,
      "outputs": [
        {
          "output_type": "execute_result",
          "data": {
            "text/plain": [
              "tensor([[ 3.1044e-01, -1.1005e-02,  1.7692e-01,  4.4845e-01,  4.3568e-02,\n",
              "          2.5114e-01, -2.5745e-01, -2.2847e-02, -1.4794e-02,  5.7954e-01],\n",
              "        [-7.3363e-02,  1.7186e-01, -3.0444e-02,  1.0208e-01,  2.5385e-02,\n",
              "          6.7166e-02, -1.1364e-01, -3.3352e-01, -1.2264e-01,  2.6396e-01],\n",
              "        [ 1.0342e-02, -1.0561e-01, -1.0709e-01,  3.2494e-01,  1.4142e-02,\n",
              "         -1.1863e-01, -5.0898e-01, -1.3186e-01, -5.6225e-02,  2.8216e-02],\n",
              "        [ 1.1247e-01, -2.9340e-01,  1.2769e-01, -1.6271e-01, -4.5675e-03,\n",
              "          7.1471e-02,  2.9183e-01, -2.6099e-01,  6.4729e-02,  3.7437e-01],\n",
              "        [ 8.5052e-02, -5.9702e-01,  2.9466e-01, -3.9027e-02, -4.2826e-01,\n",
              "         -3.3774e-02,  1.6198e-02, -1.1638e-01, -7.0953e-02,  2.8648e-01],\n",
              "        [ 1.8161e-02,  6.8042e-02, -2.3061e-01,  3.8644e-01, -2.3810e-01,\n",
              "         -3.8115e-01, -6.0302e-01, -1.8176e-01, -5.5853e-02,  2.6733e-02],\n",
              "        [-9.1042e-02, -1.3096e-01,  1.1635e-01, -2.2014e-01, -1.0767e-01,\n",
              "         -4.9565e-02,  2.6726e-01,  1.2054e-01, -2.8733e-02,  1.3742e-01],\n",
              "        [ 1.8772e-01,  2.2984e-02,  1.1835e-01,  2.5429e-02, -5.3728e-01,\n",
              "         -6.2928e-02, -1.5954e-01, -3.1548e-01,  2.1905e-01,  8.7543e-02],\n",
              "        [ 2.5730e-01, -3.3296e-01,  2.1724e-02,  8.0355e-02, -2.6245e-01,\n",
              "          4.3469e-03, -2.0462e-01, -1.6945e-01, -2.8987e-01,  2.4405e-01],\n",
              "        [ 1.0223e-01,  1.7293e-01,  1.4535e-01,  5.1789e-02, -3.0509e-01,\n",
              "         -1.3129e-01, -2.2257e-01, -3.2206e-01,  4.8563e-02,  7.9554e-02],\n",
              "        [ 6.3650e-02,  2.1527e-01,  1.8943e-01,  7.9020e-02, -1.8535e-01,\n",
              "         -3.9571e-02, -4.8533e-01, -2.2250e-01, -3.7133e-02,  5.3745e-02],\n",
              "        [-4.4947e-02,  1.9357e-01,  2.1259e-01,  1.4155e-01, -1.6026e-01,\n",
              "          1.4830e-01, -1.9420e-01, -2.2921e-01, -1.8641e-01,  7.6161e-02],\n",
              "        [ 2.9096e-01, -2.0046e-01,  4.7600e-01, -3.3645e-01, -4.7568e-02,\n",
              "          3.0298e-01,  1.1207e-01, -1.1645e-01, -8.2746e-03,  2.3312e-01],\n",
              "        [-1.1189e-01, -4.8617e-01,  6.1828e-01, -2.0014e-02, -1.7858e-01,\n",
              "          5.8487e-02, -1.8978e-02,  6.0930e-02, -8.0465e-02,  4.7998e-01],\n",
              "        [ 1.7814e-01, -5.6709e-01,  1.3045e-01,  1.8879e-01, -3.1733e-01,\n",
              "         -3.9077e-03, -2.2451e-01, -2.2734e-01, -2.1467e-01,  3.5414e-01],\n",
              "        [ 8.1979e-02, -2.6194e-01,  2.4853e-01,  6.8348e-02, -1.0112e-01,\n",
              "          9.4598e-02,  2.4017e-01,  2.0105e-02,  2.0685e-01,  4.1840e-01],\n",
              "        [ 2.1450e-01, -2.7167e-01, -6.9631e-02, -1.1060e-01, -2.3434e-01,\n",
              "         -1.7218e-01,  1.1845e-02, -1.9864e-01, -2.1126e-01,  9.9872e-02],\n",
              "        [ 1.2377e-01, -1.7998e-01, -2.8537e-03,  1.2875e-02, -3.4082e-03,\n",
              "         -3.3187e-03,  6.9922e-02, -1.1980e-01, -7.8009e-02,  8.9418e-02],\n",
              "        [ 3.1173e-01, -5.9822e-02, -9.5616e-02,  6.7377e-02, -2.7447e-01,\n",
              "          1.0865e-01, -1.8869e-01, -4.6201e-02, -5.7167e-02,  2.0759e-01],\n",
              "        [ 1.8898e-01, -4.1279e-01,  9.1843e-02,  8.5697e-02, -9.3385e-02,\n",
              "         -7.2226e-02, -1.5261e-01, -8.4148e-02,  1.6871e-02,  2.0482e-01],\n",
              "        [ 8.6836e-02,  1.0590e-01,  3.5345e-01,  1.5743e-01, -5.9432e-01,\n",
              "         -2.5010e-01, -3.6945e-02,  9.1678e-03,  6.8571e-01, -5.9658e-02],\n",
              "        [-2.6868e-02, -3.6365e-01,  5.9952e-02, -1.1782e-01, -1.0321e-01,\n",
              "          1.5390e-01,  1.2018e-01,  7.7053e-03,  2.6645e-01,  3.7147e-01],\n",
              "        [ 2.4644e-01, -2.0011e-01,  2.6499e-01, -2.2205e-01, -5.6790e-02,\n",
              "          1.4633e-01, -1.5891e-01, -2.3961e-01, -3.2207e-01,  2.9177e-01],\n",
              "        [ 1.3980e-01, -1.6116e-01,  2.8198e-01,  1.3601e-01, -3.2965e-01,\n",
              "         -6.1887e-02, -9.8268e-02,  3.0003e-02,  3.2538e-01,  1.3788e-01],\n",
              "        [-9.0448e-02,  1.8690e-01, -1.0992e-01,  1.9459e-01, -2.8113e-03,\n",
              "         -1.1377e-01, -2.3613e-01, -1.9239e-01,  8.0230e-02,  2.5805e-01],\n",
              "        [-4.2738e-02,  2.6111e-02,  2.0656e-01,  1.4551e-01, -8.7365e-02,\n",
              "          2.0188e-01, -4.0717e-02, -4.0796e-01,  3.7496e-03,  3.1992e-01],\n",
              "        [-1.1715e-01, -7.4751e-02,  1.1222e-01, -1.7532e-02, -1.4803e-01,\n",
              "         -2.0607e-02, -5.8274e-02, -9.6849e-02,  1.2911e-01,  2.8139e-01],\n",
              "        [-1.2365e-01,  5.8046e-03,  1.3298e-01,  5.9282e-02, -2.1342e-01,\n",
              "          1.6856e-01, -2.9948e-01, -2.7469e-01,  2.1416e-01,  2.5220e-01],\n",
              "        [ 3.3149e-01, -5.9439e-02,  5.6556e-02, -2.1890e-02, -1.6260e-01,\n",
              "          2.1956e-01,  2.1070e-02, -1.2465e-01, -9.2071e-02,  3.7228e-01],\n",
              "        [ 6.9708e-03, -6.4487e-02,  2.0938e-01,  4.3194e-01, -6.0314e-02,\n",
              "         -2.4648e-02, -4.6447e-01, -5.9050e-02,  2.7915e-01,  3.7153e-01],\n",
              "        [ 1.0030e-01, -2.7785e-01,  1.3057e-01,  5.8077e-02, -2.3271e-01,\n",
              "          1.1375e-02, -2.5213e-01, -8.4986e-02,  1.0787e-02,  4.7936e-01],\n",
              "        [ 2.8280e-01, -1.1035e-01,  1.9131e-01, -1.8417e-01, -3.7140e-01,\n",
              "          8.2193e-02,  3.7365e-02, -2.6336e-01, -4.8768e-02,  3.0989e-01],\n",
              "        [ 6.4618e-02, -1.2092e-01, -4.1041e-03, -3.6838e-03, -8.2996e-02,\n",
              "          1.4068e-02, -4.2146e-02, -4.6146e-01, -6.1887e-01,  3.2896e-01],\n",
              "        [ 5.7583e-02, -1.9614e-02, -5.7752e-03,  1.0917e-02,  1.2727e-01,\n",
              "         -2.5341e-02, -1.7307e-01, -3.5395e-01, -5.3224e-02,  4.3487e-01],\n",
              "        [ 1.9156e-02, -9.0722e-02,  3.7092e-01,  1.9753e-01,  9.3007e-03,\n",
              "          2.8817e-01, -9.8953e-02, -1.0432e-01, -2.7761e-01,  4.5096e-01],\n",
              "        [-3.6630e-03, -1.1564e-01, -8.4055e-03,  9.7390e-02, -5.6630e-02,\n",
              "          1.1461e-01, -1.9258e-01, -2.1447e-01, -9.2260e-02,  1.1603e-01],\n",
              "        [-2.0258e-02, -1.6290e-01,  2.8777e-01,  4.7861e-02, -5.6380e-02,\n",
              "          1.4160e-01, -4.3303e-02, -1.8551e-01, -2.3591e-01,  4.0302e-01],\n",
              "        [ 6.8901e-02,  2.0912e-01,  2.0150e-01,  2.5602e-02, -3.2994e-02,\n",
              "         -4.2671e-02, -1.9881e-01, -1.5046e-01,  5.3834e-03,  1.4631e-01],\n",
              "        [-2.7244e-02,  2.0105e-01,  2.9233e-02,  9.7653e-02, -1.6532e-01,\n",
              "         -1.5814e-01, -1.2712e-01, -3.0882e-01,  1.4558e-01,  1.3224e-01],\n",
              "        [ 1.5712e-01, -2.6425e-01,  2.6732e-01, -5.3349e-02, -1.2865e-01,\n",
              "          1.8082e-01,  6.1109e-02, -2.4615e-01, -2.5695e-01,  5.1461e-01],\n",
              "        [-1.7798e-01, -2.0216e-03, -1.6078e-01,  2.4984e-01,  5.9445e-02,\n",
              "          8.2064e-02, -1.5732e-01, -3.7587e-01,  1.1360e-01,  4.8322e-01],\n",
              "        [ 1.1631e-01, -3.3724e-01,  8.9360e-02,  2.1405e-01, -3.0220e-01,\n",
              "          9.3614e-02, -1.3201e-01,  4.4813e-02,  2.4458e-01,  3.3360e-01],\n",
              "        [-1.5565e-02, -1.7828e-01,  2.8734e-01,  1.1318e-01, -3.0862e-01,\n",
              "          3.9349e-02,  4.0159e-02, -1.7932e-01, -1.7861e-01,  4.9868e-01],\n",
              "        [ 3.3995e-01, -6.0772e-01,  1.2386e-01,  6.6830e-02, -4.4302e-01,\n",
              "          6.5265e-02, -2.1910e-01, -9.8065e-03,  5.0357e-05,  2.4262e-01],\n",
              "        [ 1.0780e-01, -1.6324e-01,  2.8556e-01, -2.4971e-02, -2.2302e-01,\n",
              "          1.4683e-01, -2.4131e-01, -2.3309e-02, -9.3499e-02,  5.1619e-01],\n",
              "        [ 1.2610e-01, -3.4307e-01,  1.2769e-01,  2.2477e-02, -2.0147e-01,\n",
              "          6.2434e-02,  4.0184e-02,  1.3363e-01, -1.2925e-01,  2.3174e-02],\n",
              "        [ 5.7488e-02, -1.1269e-01,  1.5079e-01,  6.8348e-02, -7.7321e-02,\n",
              "          3.0068e-01, -8.7366e-02, -2.7632e-01,  3.2037e-03,  5.6768e-01],\n",
              "        [-1.1169e-01, -8.8681e-02, -7.5534e-02,  3.4412e-01,  4.5580e-02,\n",
              "          2.6232e-01, -1.3955e-01, -3.5941e-01, -7.6158e-02,  4.1064e-01],\n",
              "        [ 1.9651e-01, -2.1139e-01,  2.0472e-01, -1.1835e-01, -7.3311e-02,\n",
              "          2.0161e-02,  1.1447e-01, -7.9542e-02, -1.8260e-01,  2.2375e-01],\n",
              "        [-1.3712e-01, -8.9635e-03,  2.6341e-01,  1.6598e-01, -7.0740e-03,\n",
              "          2.1457e-01, -3.3124e-01, -4.1371e-01, -3.0072e-01,  4.2822e-01],\n",
              "        [ 1.9025e-04,  1.1544e-01,  5.4880e-03,  2.9179e-01, -2.2417e-01,\n",
              "         -1.4069e-01, -5.4630e-01, -1.8324e-01,  2.0207e-02,  1.8098e-01],\n",
              "        [-4.7946e-02, -2.4942e-01,  7.8054e-02,  1.6095e-02, -1.4164e-01,\n",
              "         -2.4887e-02, -1.1423e-01,  1.3920e-02, -9.6589e-02,  3.2376e-01],\n",
              "        [ 1.5188e-01, -2.3399e-01,  2.0065e-01,  5.2709e-02, -3.1768e-01,\n",
              "          4.6544e-02,  1.4593e-01,  2.9885e-02,  4.4365e-02,  3.9121e-01],\n",
              "        [ 1.4377e-01, -1.0288e-01,  2.1346e-02,  2.0052e-01, -7.3412e-02,\n",
              "         -5.1082e-02, -3.2079e-01, -8.8164e-02, -1.0527e-01,  2.3619e-01],\n",
              "        [ 1.2130e-01, -2.9336e-01,  3.3477e-01,  6.9887e-02,  8.8706e-02,\n",
              "          2.4577e-01,  4.2155e-02,  6.6543e-02, -1.9225e-01,  3.6827e-01],\n",
              "        [ 6.7714e-02, -4.5451e-01,  4.5246e-01,  9.1636e-02, -3.7253e-01,\n",
              "         -5.4531e-02,  7.1526e-03, -9.0818e-02,  2.8586e-01,  2.0471e-01],\n",
              "        [ 2.9805e-01, -1.6402e-01,  9.5090e-02, -8.4719e-02,  1.6259e-02,\n",
              "          5.3076e-02,  1.0769e-01, -3.2629e-01, -3.3033e-01,  5.4376e-01],\n",
              "        [ 6.0030e-04, -4.3670e-01,  4.7404e-03,  9.6903e-02, -2.6514e-01,\n",
              "         -4.1957e-02, -3.1536e-01,  1.5159e-01,  1.0880e-01,  4.6358e-01],\n",
              "        [ 9.6019e-02, -1.2397e-01,  6.6532e-02,  3.2754e-01, -2.4748e-01,\n",
              "          2.4730e-01,  1.9324e-01,  1.3376e-01, -1.5404e-01,  2.9147e-01],\n",
              "        [-5.1501e-02, -9.2044e-02,  2.1722e-02, -6.4701e-02, -2.3972e-01,\n",
              "         -5.5175e-02, -1.4893e-01,  1.7180e-02, -6.5388e-02,  2.9986e-01],\n",
              "        [ 1.2218e-02,  7.0521e-03, -1.1403e-02, -5.5333e-02, -5.6432e-02,\n",
              "         -7.4765e-02, -1.4593e-01, -4.6792e-01, -2.7725e-01,  3.3919e-01],\n",
              "        [ 5.4625e-02, -9.6948e-02,  9.2313e-03, -1.1444e-01, -1.7926e-01,\n",
              "          1.3114e-01, -2.4755e-03, -3.9829e-01, -1.0087e-01,  2.1062e-01],\n",
              "        [ 1.6194e-01, -5.0425e-01,  1.7291e-01, -5.3613e-02, -9.2118e-02,\n",
              "          1.3366e-01,  9.2124e-03, -8.1619e-03, -2.4691e-01,  1.2878e-01],\n",
              "        [ 4.9644e-02, -8.1930e-02,  1.9912e-01,  2.0391e-01, -7.6302e-02,\n",
              "          7.1982e-02, -1.5729e-01, -2.0427e-02,  1.6477e-02,  9.8088e-02],\n",
              "        [-2.0257e-02,  3.6798e-02, -1.5352e-02,  1.8381e-02,  5.4033e-02,\n",
              "          5.6100e-02, -1.7260e-01, -5.3875e-01, -1.7971e-01,  2.1233e-01],\n",
              "        [ 1.5596e-01, -1.3802e-01,  1.0863e-01,  2.2479e-01,  8.4911e-02,\n",
              "          1.9953e-01, -7.5932e-02, -2.4597e-02, -1.9199e-01,  2.4793e-01],\n",
              "        [ 6.4440e-02, -5.7876e-02,  3.7996e-01,  9.0242e-02,  6.8130e-02,\n",
              "          1.2632e-02, -1.3784e-01, -1.2357e-01,  7.3210e-03,  3.8284e-01],\n",
              "        [-4.5225e-02,  4.5139e-01, -1.2473e-01,  1.2622e-01, -2.5093e-01,\n",
              "         -1.6153e-01, -4.4407e-01, -3.9259e-01,  8.7716e-02,  2.7421e-01],\n",
              "        [ 2.9071e-01, -1.0619e-01,  2.1269e-02,  9.7577e-02,  1.0420e-01,\n",
              "          6.6741e-02,  2.9113e-03, -3.9753e-01, -2.9270e-01,  5.2867e-01],\n",
              "        [ 1.5024e-01, -3.3167e-01,  9.2820e-02,  7.8682e-02, -4.4624e-01,\n",
              "         -7.3796e-03, -2.9691e-01, -1.7146e-01,  1.0520e-01,  3.5187e-01],\n",
              "        [-9.6726e-02, -4.3788e-01,  1.5293e-01,  7.6623e-02, -1.2719e-01,\n",
              "          5.9278e-02, -6.2110e-03, -3.3970e-02,  3.1756e-01,  3.3387e-02],\n",
              "        [-2.5934e-02,  1.4944e-01, -5.1048e-02,  8.2499e-02, -1.9916e-01,\n",
              "          4.3285e-02, -2.1255e-01, -5.5231e-02,  1.0477e-01,  8.9589e-02],\n",
              "        [-1.0590e-02, -1.4171e-01,  4.6991e-02, -1.0330e-01, -1.4020e-01,\n",
              "         -9.0168e-02, -9.9022e-02, -4.4521e-02, -1.0217e-01,  2.7701e-01],\n",
              "        [-8.3851e-02, -9.9716e-02,  1.2417e-01,  8.6369e-02,  1.5330e-02,\n",
              "         -2.7154e-02, -3.7615e-01, -9.0405e-02, -1.1589e-01,  2.0191e-01],\n",
              "        [ 1.2477e-01, -2.0513e-01, -8.0020e-02,  3.8648e-01, -3.0100e-02,\n",
              "         -1.4343e-01, -3.5450e-01, -3.2496e-01, -2.3653e-01,  1.5027e-01],\n",
              "        [-1.6578e-01,  1.2833e-02,  1.0567e-01,  2.4470e-01, -8.4380e-02,\n",
              "         -2.7144e-02,  1.8957e-01, -4.4417e-02, -2.1219e-01,  1.3379e-01],\n",
              "        [-4.9630e-02, -1.0178e-01,  3.7504e-03, -1.3836e-01, -8.9987e-02,\n",
              "         -6.2720e-02, -7.8071e-02, -2.7550e-01, -1.8881e-01,  2.7961e-01],\n",
              "        [-7.7293e-02, -3.6310e-01,  3.2044e-01, -1.5597e-01, -1.3410e-01,\n",
              "          1.0176e-01,  8.8722e-02,  2.4275e-01,  1.6603e-03, -7.6976e-02],\n",
              "        [-1.1883e-02,  2.3113e-01,  2.6883e-01,  6.9311e-02, -5.4128e-02,\n",
              "         -2.2251e-01, -1.6230e-01, -2.4370e-01, -5.6142e-02,  1.7523e-01],\n",
              "        [-3.0623e-01,  3.5317e-02,  6.2839e-02,  2.2573e-01, -6.8695e-02,\n",
              "          1.4726e-01, -2.5205e-01, -1.4646e-01,  2.1381e-02,  3.1500e-01],\n",
              "        [-1.8727e-01, -5.8160e-02, -1.1279e-01,  5.1181e-02,  1.0237e-01,\n",
              "          8.7267e-02, -1.3423e-01, -3.2371e-01, -1.8837e-01,  5.0886e-01],\n",
              "        [ 1.2359e-01, -4.0636e-02,  9.9769e-02, -1.9403e-01,  1.1005e-01,\n",
              "          3.1321e-01, -5.4026e-02, -1.7790e-01, -1.5193e-01,  4.3065e-01],\n",
              "        [ 1.7584e-02, -5.3036e-02,  4.5528e-02, -3.9614e-03, -3.5778e-02,\n",
              "         -7.1596e-02, -6.8329e-02, -3.8140e-01, -9.5169e-02,  5.7140e-02],\n",
              "        [-6.8637e-02,  1.5336e-01, -1.1022e-01,  1.5434e-01, -4.8501e-02,\n",
              "          2.4289e-01, -9.8870e-02, -5.7885e-01, -1.5600e-01,  3.1683e-01],\n",
              "        [ 3.2267e-02,  2.1481e-02, -1.8378e-02,  1.0203e-01,  6.8004e-03,\n",
              "          6.0374e-02, -3.7208e-01, -3.2349e-01,  2.7653e-02,  7.7755e-02],\n",
              "        [ 2.5726e-01, -2.2221e-01,  2.2946e-02,  1.3861e-01, -3.7363e-01,\n",
              "          2.8035e-02,  6.2091e-03, -6.9066e-02, -2.7145e-01,  4.8813e-01],\n",
              "        [ 8.4886e-02, -2.1567e-01,  6.7798e-02, -1.5754e-01, -3.3591e-01,\n",
              "          7.0494e-03,  2.1635e-01, -4.9653e-01, -1.3046e-01,  2.8101e-01],\n",
              "        [ 6.7073e-02, -6.2265e-03,  1.1155e-01,  2.2592e-01, -2.9655e-01,\n",
              "          5.3112e-02, -4.7022e-02, -2.6946e-02,  2.6091e-01,  4.9104e-01],\n",
              "        [ 5.3665e-02, -5.2892e-01,  2.1236e-02,  9.3471e-02, -4.9676e-01,\n",
              "         -1.8234e-01, -3.5846e-01, -6.1051e-02,  2.8322e-01,  4.5644e-01],\n",
              "        [ 7.8896e-02,  1.1724e-02,  9.6520e-02, -1.6739e-01, -9.0130e-02,\n",
              "          3.4381e-02,  1.8157e-02, -1.5330e-01, -1.1408e-01,  1.6757e-01],\n",
              "        [-8.1200e-02, -1.7274e-01,  2.4155e-01, -7.4747e-02, -1.1775e-01,\n",
              "          3.8695e-02, -1.5396e-01, -1.7435e-01, -3.0221e-01,  2.8613e-01],\n",
              "        [-2.6337e-01, -2.7697e-01,  1.5315e-01,  8.8041e-02,  7.7143e-02,\n",
              "         -8.7109e-02, -3.7604e-01, -1.4146e-01,  1.3016e-01,  3.3255e-01],\n",
              "        [ 2.0966e-01, -4.5630e-01,  3.9330e-01,  2.2073e-01, -6.4643e-02,\n",
              "         -1.0403e-01,  1.6287e-01, -3.3042e-02,  7.7272e-02,  3.2529e-01],\n",
              "        [ 3.2652e-02, -2.3642e-01, -7.3521e-02,  1.4909e-01, -2.8583e-01,\n",
              "         -8.0822e-02, -8.5653e-02,  8.5435e-03,  4.0369e-01,  3.0109e-01],\n",
              "        [ 3.2202e-01, -5.5831e-01,  8.8495e-02,  6.2874e-02, -1.1832e-01,\n",
              "         -7.2491e-02, -2.1275e-01,  7.7501e-03, -4.6578e-01,  1.7729e-01],\n",
              "        [ 7.5856e-02, -1.2206e-01, -1.6626e-01,  4.3867e-01,  1.7715e-02,\n",
              "          1.6449e-02, -2.6870e-01, -2.0996e-02,  2.2418e-01,  3.1900e-01],\n",
              "        [-4.7317e-02, -7.3636e-02,  1.7004e-01, -7.5118e-02,  4.3183e-02,\n",
              "          1.8585e-01,  7.2889e-02, -2.5153e-01, -1.1613e-01,  2.1562e-01],\n",
              "        [ 1.6125e-01, -2.0658e-01,  2.5429e-01,  2.6254e-01, -8.8191e-02,\n",
              "         -1.9256e-02, -3.4690e-01, -2.3370e-01, -5.3295e-02,  6.6429e-01],\n",
              "        [-1.9563e-01, -5.6398e-02,  1.4981e-01,  2.2322e-01,  3.4641e-02,\n",
              "          1.5408e-01, -2.9534e-01, -2.6137e-01, -2.8962e-01,  6.0588e-01],\n",
              "        [ 7.3514e-02,  6.6458e-02,  8.9963e-02,  4.6544e-02,  8.7907e-02,\n",
              "         -2.5741e-03, -7.3656e-02, -3.7989e-01, -5.5626e-02,  1.9394e-01]],\n",
              "       grad_fn=<AddmmBackward0>)"
            ]
          },
          "metadata": {},
          "execution_count": 46
        }
      ]
    },
    {
      "cell_type": "code",
      "source": [
        "loss_fn = F.cross_entropy\n",
        "\n",
        "# Loss for current batch of data\n",
        "loss = loss_fn(outputs, labels)\n",
        "print(loss)"
      ],
      "metadata": {
        "colab": {
          "base_uri": "https://localhost:8080/"
        },
        "id": "pxnh_U8sn2ua",
        "outputId": "49d3a199-0413-430f-91dd-402c0cff2958"
      },
      "execution_count": null,
      "outputs": [
        {
          "output_type": "stream",
          "name": "stdout",
          "text": [
            "tensor(2.2717, grad_fn=<NllLossBackward0>)\n"
          ]
        }
      ]
    },
    {
      "cell_type": "code",
      "source": [
        "# def evaluate(model, loss_fn, valid_dl, metric=None):\n",
        "#   with torch.no_grad():\n",
        "#     # pass each batch throigh the model \n",
        "#     results =[loss_batch (model, loss_fn, xb, yb, metric=metric) for xb, yb in valid_dl]\n",
        "    \n",
        "#     # Separate losses, counts and metrics \n",
        "#     losses, nums, metrics = zip(*results)\n",
        "\n",
        "#     # Total size of the dataset \n",
        "#     total = np. sum(nums) \n",
        "\n",
        "#     # Avg. loss across batches \n",
        "#     avg_loss = np. sum(np.multiply(losses, nums)) / total \n",
        "#     avg_metric = None \n",
        "#     if metric is not None:\n",
        "#       # Avg. of metric across batches\n",
        "#       avg_metric = np.sum(np.multiply(metrics, nums)) / total \n",
        "#   return avg_loss, total, avg_metric"
      ],
      "metadata": {
        "id": "bYUVjoKiw_Uw"
      },
      "execution_count": null,
      "outputs": []
    },
    {
      "cell_type": "code",
      "source": [
        "def evaluate(model, val_loader):\n",
        "    outputs = [model.validation_step(batch) for batch in val_loader]\n",
        "    return model.validation_epoch_end(outputs)"
      ],
      "metadata": {
        "id": "zGaRynU885bx"
      },
      "execution_count": null,
      "outputs": []
    },
    {
      "cell_type": "code",
      "source": [
        "def fit(epochs, lr, model, train_loader, val_loader, opt_func=torch.optim.SGD):\n",
        "    optimizer = opt_func(model.parameters(), lr)\n",
        "    history = [] # for recording epoch-wise results\n",
        "    \n",
        "    for epoch in range(epochs):\n",
        "        \n",
        "        # Training Phase \n",
        "        for batch in train_loader:\n",
        "            loss = model.training_step(batch)\n",
        "            loss.backward()\n",
        "            optimizer.step()\n",
        "            optimizer.zero_grad()\n",
        "                    # Generate predictions\n",
        "                    # Calculate loss\n",
        "                    # Compute gradients\n",
        "                    # Update weights\n",
        "                    # Reset gradients\n",
        "        \n",
        "        # Validation phase\n",
        "        result = evaluate(model, val_loader)\n",
        "        model.epoch_end(epoch, result)\n",
        "        history.append(result)\n",
        "        # Generate predictions\n",
        "        # Calculate loss\n",
        "        # Calculate metrics (accuracy etc.)\n",
        "\n",
        "    # Calculate average validation loss & metrics\n",
        "    \n",
        "    # Log epoch, loss & metrics for inspection    \n",
        "\n",
        "    return history"
      ],
      "metadata": {
        "id": "bVHNld5L5URo"
      },
      "execution_count": null,
      "outputs": []
    },
    {
      "cell_type": "code",
      "source": [
        "class MnistModel(nn.Module):\n",
        "    def __init__(self):\n",
        "        super().__init__()\n",
        "        self.linear = nn.Linear(input_size, num_classes)\n",
        "        \n",
        "    def forward(self, xb):\n",
        "        xb = xb.reshape(-1, 784)\n",
        "        out = self.linear(xb)\n",
        "        return out\n",
        "    \n",
        "    def training_step(self, batch):\n",
        "        images, labels = batch \n",
        "        out = self(images)                  # Generate predictions\n",
        "        loss = F.cross_entropy(out, labels) # Calculate loss\n",
        "        return loss\n",
        "    \n",
        "    def validation_step(self, batch):\n",
        "        images, labels = batch \n",
        "        out = self(images)                    # Generate predictions\n",
        "        loss = F.cross_entropy(out, labels)   # Calculate loss\n",
        "        acc = accuracy(out, labels)           # Calculate accuracy\n",
        "        return {'val_loss': loss, 'val_acc': acc}\n",
        "        \n",
        "    def validation_epoch_end(self, outputs):\n",
        "        batch_losses = [x['val_loss'] for x in outputs]\n",
        "        epoch_loss = torch.stack(batch_losses).mean()   # Combine losses\n",
        "        batch_accs = [x['val_acc'] for x in outputs]\n",
        "        epoch_acc = torch.stack(batch_accs).mean()      # Combine accuracies\n",
        "        return {'val_loss': epoch_loss.item(), 'val_acc': epoch_acc.item()}\n",
        "    \n",
        "    def epoch_end(self, epoch, result):\n",
        "        print(\"Epoch [{}], val_loss: {:.4f}, val_acc: {:.4f}\".format(epoch, result['val_loss'], result['val_acc']))\n",
        "    \n",
        "model = MnistModel()"
      ],
      "metadata": {
        "id": "eADUMo-D8zX5"
      },
      "execution_count": null,
      "outputs": []
    },
    {
      "cell_type": "code",
      "source": [
        "#Before we train the model, let's see how the model performs on the validation set with the initial set of randomly initialized weights & biases.\n",
        "result0 = evaluate(model, val_loader)\n",
        "result0"
      ],
      "metadata": {
        "colab": {
          "base_uri": "https://localhost:8080/"
        },
        "id": "KMUBKbx69MLB",
        "outputId": "a030a074-824d-4d0a-905c-f04d3283a0ae"
      },
      "execution_count": null,
      "outputs": [
        {
          "output_type": "execute_result",
          "data": {
            "text/plain": [
              "{'val_loss': 2.3120713233947754, 'val_acc': 0.10383333265781403}"
            ]
          },
          "metadata": {},
          "execution_count": 58
        }
      ]
    },
    {
      "cell_type": "code",
      "source": [
        "#Let's train for five epochs and look at the results.\n",
        "history1 = fit(5, 0.001, model, train_loader, val_loader)"
      ],
      "metadata": {
        "colab": {
          "base_uri": "https://localhost:8080/"
        },
        "id": "-tH7QHW9-y4D",
        "outputId": "2f108430-eb75-4bdf-b453-f10801aaa986"
      },
      "execution_count": null,
      "outputs": [
        {
          "output_type": "stream",
          "name": "stdout",
          "text": [
            "Epoch [0], val_loss: 1.8384, val_acc: 0.6867\n",
            "Epoch [1], val_loss: 1.5205, val_acc: 0.7573\n",
            "Epoch [2], val_loss: 1.3051, val_acc: 0.7867\n",
            "Epoch [3], val_loss: 1.1548, val_acc: 0.8043\n",
            "Epoch [4], val_loss: 1.0455, val_acc: 0.8172\n"
          ]
        }
      ]
    },
    {
      "cell_type": "code",
      "source": [
        "history2 = fit(5, 0.001, model, train_loader, val_loader)"
      ],
      "metadata": {
        "colab": {
          "base_uri": "https://localhost:8080/"
        },
        "id": "zZEH7DQ-_LuZ",
        "outputId": "f7964324-5e46-4e1a-86b4-be3150a5ffba"
      },
      "execution_count": null,
      "outputs": [
        {
          "output_type": "stream",
          "name": "stdout",
          "text": [
            "Epoch [0], val_loss: 0.5795, val_acc: 0.8663\n",
            "Epoch [1], val_loss: 0.5705, val_acc: 0.8683\n",
            "Epoch [2], val_loss: 0.5621, val_acc: 0.8687\n",
            "Epoch [3], val_loss: 0.5543, val_acc: 0.8698\n",
            "Epoch [4], val_loss: 0.5471, val_acc: 0.8703\n"
          ]
        }
      ]
    },
    {
      "cell_type": "code",
      "source": [
        "history3 = fit(5, 0.001, model, train_loader, val_loader)"
      ],
      "metadata": {
        "colab": {
          "base_uri": "https://localhost:8080/"
        },
        "id": "A3-KevWQ_wDZ",
        "outputId": "38a4a5be-47eb-4af9-cf2f-9aa0592fc706"
      },
      "execution_count": null,
      "outputs": [
        {
          "output_type": "stream",
          "name": "stdout",
          "text": [
            "Epoch [0], val_loss: 0.5403, val_acc: 0.8715\n",
            "Epoch [1], val_loss: 0.5340, val_acc: 0.8720\n",
            "Epoch [2], val_loss: 0.5280, val_acc: 0.8733\n",
            "Epoch [3], val_loss: 0.5223, val_acc: 0.8743\n",
            "Epoch [4], val_loss: 0.5171, val_acc: 0.8750\n"
          ]
        }
      ]
    },
    {
      "cell_type": "code",
      "source": [
        "history4 = fit(5, 0.001, model, train_loader, val_loader)"
      ],
      "metadata": {
        "colab": {
          "base_uri": "https://localhost:8080/"
        },
        "id": "A2KcBXsv_64q",
        "outputId": "e6afcfe3-223c-4878-ac5a-e62323c266d1"
      },
      "execution_count": null,
      "outputs": [
        {
          "output_type": "stream",
          "name": "stdout",
          "text": [
            "Epoch [0], val_loss: 0.5120, val_acc: 0.8757\n",
            "Epoch [1], val_loss: 0.5073, val_acc: 0.8763\n",
            "Epoch [2], val_loss: 0.5028, val_acc: 0.8763\n",
            "Epoch [3], val_loss: 0.4985, val_acc: 0.8775\n",
            "Epoch [4], val_loss: 0.4944, val_acc: 0.8777\n"
          ]
        }
      ]
    },
    {
      "cell_type": "code",
      "source": [
        "history5 = fit(5, 0.001, model, train_loader, val_loader)"
      ],
      "metadata": {
        "colab": {
          "base_uri": "https://localhost:8080/"
        },
        "id": "e-u9jFDjKfta",
        "outputId": "276fc2d0-764b-4880-a419-a55c5081b27b"
      },
      "execution_count": null,
      "outputs": [
        {
          "output_type": "stream",
          "name": "stdout",
          "text": [
            "Epoch [0], val_loss: 0.4905, val_acc: 0.8780\n",
            "Epoch [1], val_loss: 0.4869, val_acc: 0.8785\n",
            "Epoch [2], val_loss: 0.4833, val_acc: 0.8798\n",
            "Epoch [3], val_loss: 0.4799, val_acc: 0.8803\n",
            "Epoch [4], val_loss: 0.4766, val_acc: 0.8808\n"
          ]
        }
      ]
    },
    {
      "cell_type": "code",
      "source": [
        "#Let's visualize this using a line graph.\n",
        "history = [result0] + history5 + history2 + history3 + history4\n",
        "accuracies = [result['val_acc'] for result in history]\n",
        "plt.plot(accuracies, '-x')\n",
        "plt.xlabel('epoch')\n",
        "plt.ylabel('accuracy')\n",
        "plt.title('Accuracy vs. No. of epochs');"
      ],
      "metadata": {
        "colab": {
          "base_uri": "https://localhost:8080/",
          "height": 295
        },
        "id": "F43380LcAU66",
        "outputId": "e41de935-f35f-4312-860d-7aef7fa6c725"
      },
      "execution_count": null,
      "outputs": [
        {
          "output_type": "display_data",
          "data": {
            "text/plain": [
              "<Figure size 432x288 with 1 Axes>"
            ],
            "image/png": "[encoded data removed]"
          },
          "metadata": {
            "needs_background": "light"
          }
        }
      ]
    },
    {
      "cell_type": "code",
      "source": [
        "# Let's test out our model with some images from the predefined test \n",
        "# dataset of 10000 images. We begin by recreating the test dataset with the ToTensor transform.\n",
        "# Define test dataset\n",
        "test_dataset = MNIST(root='data/', \n",
        "                     train=False,\n",
        "                     transform=transforms.ToTensor())"
      ],
      "metadata": {
        "id": "3d-5AE_xE1Q4"
      },
      "execution_count": null,
      "outputs": []
    },
    {
      "cell_type": "code",
      "source": [
        "#Here's a sample image from the dataset.\n",
        "\n",
        "img, label = test_dataset[0]\n",
        "plt.imshow(img[0], cmap='gray')\n",
        "print('Shape:', img.shape)\n",
        "print('Label:', label)"
      ],
      "metadata": {
        "colab": {
          "base_uri": "https://localhost:8080/",
          "height": 300
        },
        "id": "jWpH9kAwF-_a",
        "outputId": "f8b06f28-1bc4-40b4-af19-869889fbd9e9"
      },
      "execution_count": null,
      "outputs": [
        {
          "output_type": "stream",
          "name": "stdout",
          "text": [
            "Shape: torch.Size([1, 28, 28])\n",
            "Label: 7\n"
          ]
        },
        {
          "output_type": "display_data",
          "data": {
            "text/plain": [
              "<Figure size 432x288 with 1 Axes>"
            ],
            "image/png": "[encoded data removed]"
          },
          "metadata": {
            "needs_background": "light"
          }
        }
      ]
    },
    {
      "cell_type": "code",
      "source": [
        "for x in range(10):\n",
        "    img, label = test_dataset[x]\n",
        "    print('Shape:', img.shape)\n",
        "    print('Label:', label)"
      ],
      "metadata": {
        "colab": {
          "base_uri": "https://localhost:8080/"
        },
        "id": "okloLgvsGGqC",
        "outputId": "8a102e00-3169-4cbf-a09b-3d6a15587202"
      },
      "execution_count": null,
      "outputs": [
        {
          "output_type": "stream",
          "name": "stdout",
          "text": [
            "Shape: torch.Size([1, 28, 28])\n",
            "Label: 7\n",
            "Shape: torch.Size([1, 28, 28])\n",
            "Label: 2\n",
            "Shape: torch.Size([1, 28, 28])\n",
            "Label: 1\n",
            "Shape: torch.Size([1, 28, 28])\n",
            "Label: 0\n",
            "Shape: torch.Size([1, 28, 28])\n",
            "Label: 4\n",
            "Shape: torch.Size([1, 28, 28])\n",
            "Label: 1\n",
            "Shape: torch.Size([1, 28, 28])\n",
            "Label: 4\n",
            "Shape: torch.Size([1, 28, 28])\n",
            "Label: 9\n",
            "Shape: torch.Size([1, 28, 28])\n",
            "Label: 5\n",
            "Shape: torch.Size([1, 28, 28])\n",
            "Label: 9\n"
          ]
        }
      ]
    },
    {
      "cell_type": "code",
      "source": [
        "# a helper function predict_image, which returns the predicted label for a single image tensor \n",
        "\n",
        "def predict_image(img, model):\n",
        "    xb = img.unsqueeze(0)   # adds another dimension at the begining of the 1x28x28 tensor, making it a 1x1x28x28 tensor, \n",
        "                            # which the model views as a batch containing a single image.\n",
        "    yb = model(xb)\n",
        "    _, preds = torch.max(yb, dim=1)\n",
        "    return preds[0].item()"
      ],
      "metadata": {
        "id": "GwTd0x1bHDPq"
      },
      "execution_count": null,
      "outputs": []
    },
    {
      "cell_type": "code",
      "source": [
        "# Let's try it out with a few images \n",
        "\n",
        "img, label = test_dataset[8]\n",
        "plt.imshow(img[0], cmap='gray')\n",
        "print('Label:', label, ', Predicted:', predict_image(img, model))"
      ],
      "metadata": {
        "colab": {
          "base_uri": "https://localhost:8080/",
          "height": 282
        },
        "id": "S6pSL9cHIhsQ",
        "outputId": "a59a42ae-5166-4d6c-ceb1-183e3824298a"
      },
      "execution_count": null,
      "outputs": [
        {
          "output_type": "stream",
          "name": "stdout",
          "text": [
            "Label: 5 , Predicted: 6\n"
          ]
        },
        {
          "output_type": "display_data",
          "data": {
            "text/plain": [
              "<Figure size 432x288 with 1 Axes>"
            ],
            "image/png": "[encoded data removed]"
          },
          "metadata": {
            "needs_background": "light"
          }
        }
      ]
    },
    {
      "cell_type": "code",
      "source": [
        "img, label = test_dataset[1839]\n",
        "plt.imshow(img[0], cmap='gray')\n",
        "print('Label:', label, ', Predicted:', predict_image(img, model))"
      ],
      "metadata": {
        "colab": {
          "base_uri": "https://localhost:8080/",
          "height": 282
        },
        "id": "dUgHEm4GJOxq",
        "outputId": "ced60b62-b713-4201-e775-1812d381ee0d"
      },
      "execution_count": null,
      "outputs": [
        {
          "output_type": "stream",
          "name": "stdout",
          "text": [
            "Label: 2 , Predicted: 8\n"
          ]
        },
        {
          "output_type": "display_data",
          "data": {
            "text/plain": [
              "<Figure size 432x288 with 1 Axes>"
            ],
            "image/png": "[encoded data removed]"
          },
          "metadata": {
            "needs_background": "light"
          }
        }
      ]
    },
    {
      "cell_type": "code",
      "source": [
        "# the overall loss and accuracy of the model on the test set \n",
        "\n",
        "test_loader = DataLoader(test_dataset, batch_size=256)\n",
        "result = evaluate(model, test_loader)\n",
        "result "
      ],
      "metadata": {
        "colab": {
          "base_uri": "https://localhost:8080/"
        },
        "id": "M1z_wq9cKH9K",
        "outputId": "60fc1576-f816-41cc-94bf-7f79d4848083"
      },
      "execution_count": null,
      "outputs": [
        {
          "output_type": "execute_result",
          "data": {
            "text/plain": [
              "{'val_loss': 0.4709347188472748, 'val_acc': 0.8829101324081421}"
            ]
          },
          "metadata": {},
          "execution_count": 85
        }
      ]
    },
    {
      "cell_type": "code",
      "source": [
        "#Here's how you can save the model.\n",
        "\n",
        "torch.save(model.state_dict(), 'mnist-logistic.pth')"
      ],
      "metadata": {
        "id": "GXjrys46KVWB"
      },
      "execution_count": null,
      "outputs": []
    },
    {
      "cell_type": "code",
      "source": [
        "model.state_dict()"
      ],
      "metadata": {
        "colab": {
          "base_uri": "https://localhost:8080/"
        },
        "id": "Qelxn6v5Luyw",
        "outputId": "5b7a60b6-8b29-4e0c-bab1-3c3547e907b7"
      },
      "execution_count": null,
      "outputs": [
        {
          "output_type": "execute_result",
          "data": {
            "text/plain": [
              "OrderedDict([('linear.weight',\n",
              "              tensor([[-0.0200,  0.0160,  0.0068,  ..., -0.0132, -0.0289,  0.0029],\n",
              "                      [-0.0141,  0.0347, -0.0212,  ...,  0.0298,  0.0108,  0.0201],\n",
              "                      [-0.0235,  0.0282,  0.0217,  ..., -0.0313,  0.0276,  0.0208],\n",
              "                      ...,\n",
              "                      [ 0.0216,  0.0321,  0.0185,  ...,  0.0222,  0.0250, -0.0133],\n",
              "                      [ 0.0183,  0.0109, -0.0045,  ..., -0.0179, -0.0168, -0.0192],\n",
              "                      [-0.0187, -0.0197, -0.0187,  ...,  0.0285,  0.0342, -0.0235]])),\n",
              "             ('linear.bias',\n",
              "              tensor([-0.0888,  0.1242, -0.0534, -0.0650,  0.0474,  0.1429, -0.0306,  0.0597,\n",
              "                      -0.1984, -0.0260]))])"
            ]
          },
          "metadata": {},
          "execution_count": 90
        }
      ]
    },
    {
      "cell_type": "code",
      "source": [
        "model2 = MnistModel()"
      ],
      "metadata": {
        "id": "pTbHssCmLvxi"
      },
      "execution_count": null,
      "outputs": []
    },
    {
      "cell_type": "code",
      "source": [
        "model2.state_dict()"
      ],
      "metadata": {
        "colab": {
          "base_uri": "https://localhost:8080/"
        },
        "id": "76EsC9LgL5py",
        "outputId": "72219576-b139-4cad-ebc7-480e1539ca6d"
      },
      "execution_count": null,
      "outputs": [
        {
          "output_type": "execute_result",
          "data": {
            "text/plain": [
              "OrderedDict([('linear.weight',\n",
              "              tensor([[ 1.8638e-02,  1.7660e-03, -2.5504e-02,  ...,  7.2288e-04,\n",
              "                        1.6639e-02,  1.2321e-02],\n",
              "                      [-2.0491e-02,  3.2403e-02,  2.3528e-03,  ...,  2.5720e-02,\n",
              "                       -2.2456e-02,  3.3463e-03],\n",
              "                      [-2.5680e-02, -3.2300e-02,  3.4540e-02,  ..., -1.6465e-03,\n",
              "                       -5.9274e-03, -3.2640e-02],\n",
              "                      ...,\n",
              "                      [-2.4138e-02, -4.1253e-03,  3.2967e-02,  ..., -2.3750e-02,\n",
              "                       -1.6199e-02, -1.1840e-02],\n",
              "                      [ 4.0302e-03,  2.8877e-02,  2.1510e-02,  ..., -1.0552e-04,\n",
              "                       -1.3987e-02, -2.8551e-02],\n",
              "                      [ 2.1199e-03,  5.4738e-05, -3.2231e-02,  ..., -2.0875e-02,\n",
              "                       -3.0313e-02, -2.2608e-02]])),\n",
              "             ('linear.bias',\n",
              "              tensor([ 0.0232, -0.0307, -0.0032, -0.0231,  0.0174, -0.0189, -0.0347, -0.0084,\n",
              "                      -0.0239, -0.0299]))])"
            ]
          },
          "metadata": {},
          "execution_count": 92
        }
      ]
    },
    {
      "cell_type": "code",
      "source": [
        "evaluate(model2, test_loader)"
      ],
      "metadata": {
        "colab": {
          "base_uri": "https://localhost:8080/"
        },
        "id": "32-TMgNQL8Da",
        "outputId": "505e49b4-8f03-4d7d-b4f1-86d23f2ada3c"
      },
      "execution_count": null,
      "outputs": [
        {
          "output_type": "execute_result",
          "data": {
            "text/plain": [
              "{'val_loss': 2.327096462249756, 'val_acc': 0.06484375149011612}"
            ]
          },
          "metadata": {},
          "execution_count": 93
        }
      ]
    },
    {
      "cell_type": "code",
      "source": [
        "model2.load_state_dict(torch.load('mnist-logistic.pth'))\n",
        "model2.state_dict()"
      ],
      "metadata": {
        "colab": {
          "base_uri": "https://localhost:8080/"
        },
        "id": "c6eyh5N6MBeq",
        "outputId": "0e179166-9ce2-4b3d-ef9c-887633efa273"
      },
      "execution_count": null,
      "outputs": [
        {
          "output_type": "execute_result",
          "data": {
            "text/plain": [
              "OrderedDict([('linear.weight',\n",
              "              tensor([[-0.0200,  0.0160,  0.0068,  ..., -0.0132, -0.0289,  0.0029],\n",
              "                      [-0.0141,  0.0347, -0.0212,  ...,  0.0298,  0.0108,  0.0201],\n",
              "                      [-0.0235,  0.0282,  0.0217,  ..., -0.0313,  0.0276,  0.0208],\n",
              "                      ...,\n",
              "                      [ 0.0216,  0.0321,  0.0185,  ...,  0.0222,  0.0250, -0.0133],\n",
              "                      [ 0.0183,  0.0109, -0.0045,  ..., -0.0179, -0.0168, -0.0192],\n",
              "                      [-0.0187, -0.0197, -0.0187,  ...,  0.0285,  0.0342, -0.0235]])),\n",
              "             ('linear.bias',\n",
              "              tensor([-0.0888,  0.1242, -0.0534, -0.0650,  0.0474,  0.1429, -0.0306,  0.0597,\n",
              "                      -0.1984, -0.0260]))])"
            ]
          },
          "metadata": {},
          "execution_count": 94
        }
      ]
    },
    {
      "cell_type": "code",
      "source": [
        "# Just as a sanity check, let's verify that this model has the same loss and accuracy on the test set as before \n",
        "\n",
        "test_loader = DataLoader(test_dataset, batch_size=256)\n",
        "result = evaluate(model2, test_loader)\n",
        "result"
      ],
      "metadata": {
        "colab": {
          "base_uri": "https://localhost:8080/"
        },
        "id": "P2jZklhpMIt5",
        "outputId": "4fa92949-acd4-427c-9a5e-eaf75c2be051"
      },
      "execution_count": null,
      "outputs": [
        {
          "output_type": "execute_result",
          "data": {
            "text/plain": [
              "{'val_loss': 0.45308905839920044, 'val_acc': 0.8857421875}"
            ]
          },
          "metadata": {},
          "execution_count": 95
        }
      ]
    },
    {
      "cell_type": "code",
      "source": [],
      "metadata": {
        "id": "xFlR8C6FN_UJ"
      },
      "execution_count": null,
      "outputs": []
    }
  ]
}